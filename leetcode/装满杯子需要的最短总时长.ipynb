{
 "cells": [
  {
   "cell_type": "code",
   "execution_count": 20,
   "metadata": {},
   "outputs": [
    {
     "name": "stdout",
     "output_type": "stream",
     "text": [
      "[4, 4, 5]\n",
      "[3, 4, 4]\n",
      "[3, 3, 3]\n",
      "[2, 2, 3]\n",
      "[1, 2, 2]\n",
      "[1, 1, 1]\n",
      "[0, 0, 1]\n",
      "7\n"
     ]
    }
   ],
   "source": [
    "class Solution:\n",
    "    def fillCups(self, amount: list[int]) -> int:\n",
    "        ans = 0\n",
    "        while sum(amount):\n",
    "            amount.sort()\n",
    "            print(amount)\n",
    "            ans += 1\n",
    "            amount[2] -= 1\n",
    "            amount[1] = max(0, amount[1] - 1)\n",
    "        return ans\n",
    "\n",
    "if __name__ == '__main__':\n",
    "    a = [4, 4, 5]\n",
    "    print(Solution.fillCups(None,amount=a))\n"
   ]
  }
 ],
 "metadata": {
  "kernelspec": {
   "display_name": "Python 3",
   "language": "python",
   "name": "python3"
  },
  "language_info": {
   "codemirror_mode": {
    "name": "ipython",
    "version": 3
   },
   "file_extension": ".py",
   "mimetype": "text/x-python",
   "name": "python",
   "nbconvert_exporter": "python",
   "pygments_lexer": "ipython3",
   "version": "3.10.6"
  },
  "orig_nbformat": 4,
  "vscode": {
   "interpreter": {
    "hash": "b0425e536a7e7cf49c49483d3faa5359af68fac38658aa7b1a7b75d51a866e27"
   }
  }
 },
 "nbformat": 4,
 "nbformat_minor": 2
}
