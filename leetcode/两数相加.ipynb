{
 "cells": [
  {
   "cell_type": "code",
   "execution_count": 19,
   "metadata": {},
   "outputs": [
    {
     "name": "stdout",
     "output_type": "stream",
     "text": [
      "['3', '2', '1']\n"
     ]
    }
   ],
   "source": [
    "nums = [1,2,3]\n",
    "sum1 = 0\n",
    "for i in range(0,len(nums)):\n",
    "    sum1 += nums[i]*(10**i)\n",
    "sum1  = list(str(sum1))\n",
    "print(sum1)"
   ]
  },
  {
   "cell_type": "code",
   "execution_count": 22,
   "metadata": {},
   "outputs": [
    {
     "name": "stdout",
     "output_type": "stream",
     "text": [
      "1\n"
     ]
    }
   ],
   "source": [
    "class Node:\n",
    "    def __init__(self, elem, next_=None):\n",
    "        self.elem = elem\n",
    "        self.next = next_\n",
    "\n",
    "\n",
    "def list2link(list_):\n",
    "    head = Node(list_[0])\n",
    "    p = head\n",
    "    for i in range(1, len(list_)):\n",
    "        p.next = Node(list_[i])\n",
    "        p = p.next\n",
    "    return head\n",
    "\n",
    "\n",
    "if __name__ == \"__main__\":\n",
    "    old_list = [1, 2, 3, 4, 5]\n",
    "    link = list2link(old_list)\n",
    "    print(link.elem)"
   ]
  },
  {
   "cell_type": "code",
   "execution_count": null,
   "metadata": {},
   "outputs": [],
   "source": [
    "# Definition for singly-linked list.\n",
    "# class ListNode:\n",
    "#     def __init__(self, val=0, next=None):\n",
    "#         self.val = val\n",
    "#         self.next = next\n",
    "# def list2link(list_):\n",
    "#     head = ListNode(list_[0])\n",
    "#     p = head\n",
    "#     for i in range(1, len(list_)):\n",
    "#         p.next = ListNode(list_[i])\n",
    "#         p = p.next\n",
    "# return head\n",
    "class Solution:\n",
    "    def addTwoNumbers(self, l1: Optional[ListNode], l2: Optional[ListNode]) -> Optional[ListNode]:\n",
    "        # l11 = []\n",
    "        # sum1 = 0\n",
    "        # sum2 = 0\n",
    "        # print(l1)\n",
    "        # while l1:\n",
    "        #     l11.append(l1.val)\n",
    "        #     l1 = l1.next\n",
    "        #     print(l11)\n",
    "        # for i in range(0,len(l11)):\n",
    "        #     sum1 += (l11[i]) * (10**i)\n",
    "        # l22 = []\n",
    "        # while l2:\n",
    "        #     l22.append(l2.val)\n",
    "        #     l2 = l2.next\n",
    "        # for k in range(0,len(l22)):\n",
    "        #     sum2 += l22[k] * (10**k)\n",
    "        # print(sum1,sum2)\n",
    "        # sum3 = sum1 + sum2\n",
    "        # print(sum3)\n",
    "        # sum3 = list(str(sum3))\n",
    "        # print(sum3)\n",
    "        # sum3 = sum3[::-1]\n",
    "        # print(sum3)\n",
    "        # results = list(map(int, sum3))\n",
    "        # print(results)\n",
    "        # return list2link(results)\n",
    "        if not l1:\n",
    "            return l2\n",
    "        if not l2:\n",
    "            return l1\n",
    "\n",
    "        l1.val += l2.val    # 将两数相加，赋值给 l1 节点\n",
    "        if l1.val >= 10:\n",
    "            l1.next = self.addTwoNumbers(ListNode(l1.val // 10), l1.next)\n",
    "            l1.val %= 10\n",
    "\n",
    "        l1.next = self.addTwoNumbers(l1.next, l2.next)\n",
    "        return l1\n"
   ]
  }
 ],
 "metadata": {
  "kernelspec": {
   "display_name": "Python 3",
   "language": "python",
   "name": "python3"
  },
  "language_info": {
   "codemirror_mode": {
    "name": "ipython",
    "version": 3
   },
   "file_extension": ".py",
   "mimetype": "text/x-python",
   "name": "python",
   "nbconvert_exporter": "python",
   "pygments_lexer": "ipython3",
   "version": "3.10.6"
  },
  "orig_nbformat": 4,
  "vscode": {
   "interpreter": {
    "hash": "b0425e536a7e7cf49c49483d3faa5359af68fac38658aa7b1a7b75d51a866e27"
   }
  }
 },
 "nbformat": 4,
 "nbformat_minor": 2
}
