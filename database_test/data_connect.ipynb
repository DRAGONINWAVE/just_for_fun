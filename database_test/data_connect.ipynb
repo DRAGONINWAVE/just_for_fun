{
 "cells": [
  {
   "cell_type": "code",
   "execution_count": 12,
   "metadata": {},
   "outputs": [],
   "source": [
    "import pymongo"
   ]
  },
  {
   "cell_type": "code",
   "execution_count": 17,
   "metadata": {},
   "outputs": [],
   "source": [
    "myclient = pymongo.MongoClient(\"mongodb://localhost:27017/\")\n",
    "mydb = myclient['mydatabase']"
   ]
  },
  {
   "cell_type": "code",
   "execution_count": 21,
   "metadata": {},
   "outputs": [
    {
     "name": "stdout",
     "output_type": "stream",
     "text": [
      "['admin', 'config', 'local']\n"
     ]
    }
   ],
   "source": [
    "print(myclient.list_database_names())"
   ]
  },
  {
   "cell_type": "code",
   "execution_count": 22,
   "metadata": {},
   "outputs": [],
   "source": [
    "dblist = myclient.list_database_names()\n",
    "if \"mydatabase\" in dblist:\n",
    "    print(\"The database exits.\")"
   ]
  },
  {
   "cell_type": "code",
   "execution_count": 35,
   "metadata": {},
   "outputs": [
    {
     "name": "stdout",
     "output_type": "stream",
     "text": [
      "[]\n"
     ]
    }
   ],
   "source": [
    "# create a collection called \"custiomers\"\n",
    "import pymongo\n",
    "\n",
    "myclient = pymongo.MongoClient(\"mongodb://localhost:27017/\")\n",
    "mydb = myclient[\"mydatabase\"]\n",
    "mycol = mydb[\"customers\"]\n",
    "print(mydb.list_collection_names())\n",
    "\n",
    "collist = mydb.list_collection_names()\n",
    "if \"customer\" in collist:\n",
    "    print(\"The collection exists.\")"
   ]
  },
  {
   "cell_type": "code",
   "execution_count": 40,
   "metadata": {},
   "outputs": [],
   "source": [
    "mydict = {\"name\":\"John\",\"address\":\"Highway 37\"}\n",
    "x = mycol.insert_one(mydict)"
   ]
  },
  {
   "cell_type": "code",
   "execution_count": 56,
   "metadata": {},
   "outputs": [
    {
     "name": "stdout",
     "output_type": "stream",
     "text": [
      "637f615e0e93e43fbfb13374\n",
      "[ObjectId('637f615e0e93e43fbfb13375'), ObjectId('637f615e0e93e43fbfb13376'), ObjectId('637f615e0e93e43fbfb13377'), ObjectId('637f615e0e93e43fbfb13378'), ObjectId('637f615e0e93e43fbfb13379'), ObjectId('637f615e0e93e43fbfb1337a'), ObjectId('637f615e0e93e43fbfb1337b'), ObjectId('637f615e0e93e43fbfb1337c'), ObjectId('637f615e0e93e43fbfb1337d'), ObjectId('637f615e0e93e43fbfb1337e'), ObjectId('637f615e0e93e43fbfb1337f'), ObjectId('637f615e0e93e43fbfb13380')]\n"
     ]
    }
   ],
   "source": [
    "mydict = {\"name\":\"Peter\",\"address\":\"Lowstreet 27\"}\n",
    "x = mycol.insert_one(mydict)\n",
    "print(x.inserted_id)\n",
    "\n",
    "mylist = [\n",
    "    {\"name\": \"Amy\", \"address\": \"Apple st 652\"},\n",
    "    {\"name\": \"Hannah\", \"address\": \"Mountain 21\"},\n",
    "    {\"name\": \"Michael\", \"address\": \"Valley 345\"},\n",
    "    {\"name\": \"Sandy\", \"address\": \"Ocean blvd 2\"},\n",
    "    {\"name\": \"Betty\", \"address\": \"Green Grass 1\"},\n",
    "    {\"name\": \"Richard\", \"address\": \"Sky st 331\"},\n",
    "    {\"name\": \"Susan\", \"address\": \"One way 98\"},\n",
    "    {\"name\": \"Vicky\", \"address\": \"Yellow Garden 2\"},\n",
    "    {\"name\": \"Ben\", \"address\": \"Park Lane 38\"},\n",
    "    {\"name\": \"William\", \"address\": \"Central st 954\"},\n",
    "    {\"name\": \"Chuck\", \"address\": \"Main Road 989\"},\n",
    "    {\"name\": \"Viola\", \"address\": \"Sideway 1633\"}\n",
    "]\n",
    "\n",
    "x = mycol.insert_many(mylist)\n",
    "print(x.inserted_ids)\n",
    "\n"
   ]
  },
  {
   "cell_type": "code",
   "execution_count": 58,
   "metadata": {},
   "outputs": [
    {
     "ename": "BulkWriteError",
     "evalue": "batch op errors occurred, full error: {'writeErrors': [{'index': 0, 'code': 11000, 'errmsg': 'E11000 duplicate key error collection: mydatabase.customers index: _id_ dup key: { _id: 1 }', 'keyPattern': {'_id': 1}, 'keyValue': {'_id': 1}, 'op': {'_id': 1, 'name': 'John', 'address': 'Highway 37'}}], 'writeConcernErrors': [], 'nInserted': 0, 'nUpserted': 0, 'nMatched': 0, 'nModified': 0, 'nRemoved': 0, 'upserted': []}",
     "output_type": "error",
     "traceback": [
      "\u001b[1;31m---------------------------------------------------------------------------\u001b[0m",
      "\u001b[1;31mBulkWriteError\u001b[0m                            Traceback (most recent call last)",
      "Cell \u001b[1;32mIn [58], line 24\u001b[0m\n\u001b[0;32m      5\u001b[0m mycol \u001b[39m=\u001b[39m mydb[\u001b[39m\"\u001b[39m\u001b[39mcustomers\u001b[39m\u001b[39m\"\u001b[39m]\n\u001b[0;32m      7\u001b[0m mylist \u001b[39m=\u001b[39m [\n\u001b[0;32m      8\u001b[0m     {\u001b[39m\"\u001b[39m\u001b[39m_id\u001b[39m\u001b[39m\"\u001b[39m: \u001b[39m1\u001b[39m, \u001b[39m\"\u001b[39m\u001b[39mname\u001b[39m\u001b[39m\"\u001b[39m: \u001b[39m\"\u001b[39m\u001b[39mJohn\u001b[39m\u001b[39m\"\u001b[39m, \u001b[39m\"\u001b[39m\u001b[39maddress\u001b[39m\u001b[39m\"\u001b[39m: \u001b[39m\"\u001b[39m\u001b[39mHighway 37\u001b[39m\u001b[39m\"\u001b[39m},\n\u001b[0;32m      9\u001b[0m     {\u001b[39m\"\u001b[39m\u001b[39m_id\u001b[39m\u001b[39m\"\u001b[39m: \u001b[39m2\u001b[39m, \u001b[39m\"\u001b[39m\u001b[39mname\u001b[39m\u001b[39m\"\u001b[39m: \u001b[39m\"\u001b[39m\u001b[39mPeter\u001b[39m\u001b[39m\"\u001b[39m, \u001b[39m\"\u001b[39m\u001b[39maddress\u001b[39m\u001b[39m\"\u001b[39m: \u001b[39m\"\u001b[39m\u001b[39mLowstreet 27\u001b[39m\u001b[39m\"\u001b[39m},\n\u001b[1;32m   (...)\u001b[0m\n\u001b[0;32m     21\u001b[0m     {\u001b[39m\"\u001b[39m\u001b[39m_id\u001b[39m\u001b[39m\"\u001b[39m: \u001b[39m14\u001b[39m, \u001b[39m\"\u001b[39m\u001b[39mname\u001b[39m\u001b[39m\"\u001b[39m: \u001b[39m\"\u001b[39m\u001b[39mViola\u001b[39m\u001b[39m\"\u001b[39m, \u001b[39m\"\u001b[39m\u001b[39maddress\u001b[39m\u001b[39m\"\u001b[39m: \u001b[39m\"\u001b[39m\u001b[39mSideway 1633\u001b[39m\u001b[39m\"\u001b[39m}\n\u001b[0;32m     22\u001b[0m ]\n\u001b[1;32m---> 24\u001b[0m x \u001b[39m=\u001b[39m mycol\u001b[39m.\u001b[39;49minsert_many(mylist)\n\u001b[0;32m     26\u001b[0m \u001b[39m#print list of the _id values of the inserted documents:\u001b[39;00m\n\u001b[0;32m     27\u001b[0m \u001b[39mprint\u001b[39m(x\u001b[39m.\u001b[39minserted_ids)\n",
      "File \u001b[1;32md:\\python3.10_20221013\\lib\\site-packages\\pymongo\\_csot.py:105\u001b[0m, in \u001b[0;36mapply.<locals>.csot_wrapper\u001b[1;34m(self, *args, **kwargs)\u001b[0m\n\u001b[0;32m    103\u001b[0m         \u001b[39mwith\u001b[39;00m _TimeoutContext(timeout):\n\u001b[0;32m    104\u001b[0m             \u001b[39mreturn\u001b[39;00m func(\u001b[39mself\u001b[39m, \u001b[39m*\u001b[39margs, \u001b[39m*\u001b[39m\u001b[39m*\u001b[39mkwargs)\n\u001b[1;32m--> 105\u001b[0m \u001b[39mreturn\u001b[39;00m func(\u001b[39mself\u001b[39m, \u001b[39m*\u001b[39margs, \u001b[39m*\u001b[39m\u001b[39m*\u001b[39mkwargs)\n",
      "File \u001b[1;32md:\\python3.10_20221013\\lib\\site-packages\\pymongo\\collection.py:714\u001b[0m, in \u001b[0;36mCollection.insert_many\u001b[1;34m(self, documents, ordered, bypass_document_validation, session, comment)\u001b[0m\n\u001b[0;32m    712\u001b[0m blk \u001b[39m=\u001b[39m _Bulk(\u001b[39mself\u001b[39m, ordered, bypass_document_validation, comment\u001b[39m=\u001b[39mcomment)\n\u001b[0;32m    713\u001b[0m blk\u001b[39m.\u001b[39mops \u001b[39m=\u001b[39m [doc \u001b[39mfor\u001b[39;00m doc \u001b[39min\u001b[39;00m gen()]\n\u001b[1;32m--> 714\u001b[0m blk\u001b[39m.\u001b[39;49mexecute(write_concern, session\u001b[39m=\u001b[39;49msession)\n\u001b[0;32m    715\u001b[0m \u001b[39mreturn\u001b[39;00m InsertManyResult(inserted_ids, write_concern\u001b[39m.\u001b[39macknowledged)\n",
      "File \u001b[1;32md:\\python3.10_20221013\\lib\\site-packages\\pymongo\\bulk.py:513\u001b[0m, in \u001b[0;36m_Bulk.execute\u001b[1;34m(self, write_concern, session)\u001b[0m\n\u001b[0;32m    511\u001b[0m         \u001b[39mself\u001b[39m\u001b[39m.\u001b[39mexecute_no_results(sock_info, generator, write_concern)\n\u001b[0;32m    512\u001b[0m \u001b[39melse\u001b[39;00m:\n\u001b[1;32m--> 513\u001b[0m     \u001b[39mreturn\u001b[39;00m \u001b[39mself\u001b[39;49m\u001b[39m.\u001b[39;49mexecute_command(generator, write_concern, session)\n",
      "File \u001b[1;32md:\\python3.10_20221013\\lib\\site-packages\\pymongo\\bulk.py:394\u001b[0m, in \u001b[0;36m_Bulk.execute_command\u001b[1;34m(self, generator, write_concern, session)\u001b[0m\n\u001b[0;32m    391\u001b[0m     client\u001b[39m.\u001b[39m_retry_with_session(\u001b[39mself\u001b[39m\u001b[39m.\u001b[39mis_retryable, retryable_bulk, s, \u001b[39mself\u001b[39m)\n\u001b[0;32m    393\u001b[0m \u001b[39mif\u001b[39;00m full_result[\u001b[39m\"\u001b[39m\u001b[39mwriteErrors\u001b[39m\u001b[39m\"\u001b[39m] \u001b[39mor\u001b[39;00m full_result[\u001b[39m\"\u001b[39m\u001b[39mwriteConcernErrors\u001b[39m\u001b[39m\"\u001b[39m]:\n\u001b[1;32m--> 394\u001b[0m     _raise_bulk_write_error(full_result)\n\u001b[0;32m    395\u001b[0m \u001b[39mreturn\u001b[39;00m full_result\n",
      "File \u001b[1;32md:\\python3.10_20221013\\lib\\site-packages\\pymongo\\bulk.py:136\u001b[0m, in \u001b[0;36m_raise_bulk_write_error\u001b[1;34m(full_result)\u001b[0m\n\u001b[0;32m    134\u001b[0m \u001b[39mif\u001b[39;00m full_result[\u001b[39m\"\u001b[39m\u001b[39mwriteErrors\u001b[39m\u001b[39m\"\u001b[39m]:\n\u001b[0;32m    135\u001b[0m     full_result[\u001b[39m\"\u001b[39m\u001b[39mwriteErrors\u001b[39m\u001b[39m\"\u001b[39m]\u001b[39m.\u001b[39msort(key\u001b[39m=\u001b[39m\u001b[39mlambda\u001b[39;00m error: error[\u001b[39m\"\u001b[39m\u001b[39mindex\u001b[39m\u001b[39m\"\u001b[39m])\n\u001b[1;32m--> 136\u001b[0m \u001b[39mraise\u001b[39;00m BulkWriteError(full_result)\n",
      "\u001b[1;31mBulkWriteError\u001b[0m: batch op errors occurred, full error: {'writeErrors': [{'index': 0, 'code': 11000, 'errmsg': 'E11000 duplicate key error collection: mydatabase.customers index: _id_ dup key: { _id: 1 }', 'keyPattern': {'_id': 1}, 'keyValue': {'_id': 1}, 'op': {'_id': 1, 'name': 'John', 'address': 'Highway 37'}}], 'writeConcernErrors': [], 'nInserted': 0, 'nUpserted': 0, 'nMatched': 0, 'nModified': 0, 'nRemoved': 0, 'upserted': []}"
     ]
    }
   ],
   "source": [
    "import pymongo\n",
    "\n",
    "myclient = pymongo.MongoClient(\"mongodb://localhost:27017/\")\n",
    "mydb = myclient[\"mydatabase\"]\n",
    "mycol = mydb[\"customers\"]\n",
    "\n",
    "mylist = [\n",
    "    {\"_id\": 1, \"name\": \"John\", \"address\": \"Highway 37\"},\n",
    "    {\"_id\": 2, \"name\": \"Peter\", \"address\": \"Lowstreet 27\"},\n",
    "    {\"_id\": 3, \"name\": \"Amy\", \"address\": \"Apple st 652\"},\n",
    "    {\"_id\": 4, \"name\": \"Hannah\", \"address\": \"Mountain 21\"},\n",
    "    {\"_id\": 5, \"name\": \"Michael\", \"address\": \"Valley 345\"},\n",
    "    {\"_id\": 6, \"name\": \"Sandy\", \"address\": \"Ocean blvd 2\"},\n",
    "    {\"_id\": 7, \"name\": \"Betty\", \"address\": \"Green Grass 1\"},\n",
    "    {\"_id\": 8, \"name\": \"Richard\", \"address\": \"Sky st 331\"},\n",
    "    {\"_id\": 9, \"name\": \"Susan\", \"address\": \"One way 98\"},\n",
    "    {\"_id\": 10, \"name\": \"Vicky\", \"address\": \"Yellow Garden 2\"},\n",
    "    {\"_id\": 11, \"name\": \"Ben\", \"address\": \"Park Lane 38\"},\n",
    "    {\"_id\": 12, \"name\": \"William\", \"address\": \"Central st 954\"},\n",
    "    {\"_id\": 13, \"name\": \"Chuck\", \"address\": \"Main Road 989\"},\n",
    "    {\"_id\": 14, \"name\": \"Viola\", \"address\": \"Sideway 1633\"}\n",
    "]\n",
    "\n",
    "x = mycol.insert_many(mylist)\n",
    "\n",
    "#print list of the _id values of the inserted documents:\n",
    "print(x.inserted_ids)\n"
   ]
  },
  {
   "cell_type": "code",
   "execution_count": 69,
   "metadata": {},
   "outputs": [
    {
     "name": "stdout",
     "output_type": "stream",
     "text": [
      "{'_id': ObjectId('637f5f570e93e43fbfb13345'), 'name': 'John', 'address': 'Highway 37'}\n",
      "{'_id': ObjectId('637f5f570e93e43fbfb13345'), 'name': 'John', 'address': 'Highway 37'}\n",
      "{'_id': ObjectId('637f5f5a0e93e43fbfb13346'), 'name': 'John', 'address': 'Highway 37'}\n",
      "{'_id': ObjectId('637f5f6f0e93e43fbfb13347'), 'name': 'John', 'address': 'Highway 37'}\n",
      "{'_id': ObjectId('637f5f700e93e43fbfb13348'), 'name': 'John', 'address': 'Highway 37'}\n",
      "{'_id': ObjectId('637f5fcc0e93e43fbfb13349'), 'name': 'Peter', 'address': 'Lowstreet 27'}\n",
      "{'_id': ObjectId('637f5fcd0e93e43fbfb1334a'), 'name': 'Peter', 'address': 'Lowstreet 27'}\n",
      "{'_id': ObjectId('637f60090e93e43fbfb1334b'), 'name': 'Peter', 'address': 'Lowstreet 27'}\n",
      "{'_id': ObjectId('637f60090e93e43fbfb1334c'), 'name': 'Amy', 'address': 'Apple st 652'}\n",
      "{'_id': ObjectId('637f60090e93e43fbfb1334d'), 'name': 'Hannah', 'address': 'Mountain 21'}\n",
      "{'_id': ObjectId('637f60090e93e43fbfb1334e'), 'name': 'Michael', 'address': 'Valley 345'}\n",
      "{'_id': ObjectId('637f60090e93e43fbfb1334f'), 'name': 'Sandy', 'address': 'Ocean blvd 2'}\n",
      "{'_id': ObjectId('637f60090e93e43fbfb13350'), 'name': 'Betty', 'address': 'Green Grass 1'}\n",
      "{'_id': ObjectId('637f60090e93e43fbfb13351'), 'name': 'Richard', 'address': 'Sky st 331'}\n",
      "{'_id': ObjectId('637f60090e93e43fbfb13352'), 'name': 'Susan', 'address': 'One way 98'}\n",
      "{'_id': ObjectId('637f60090e93e43fbfb13353'), 'name': 'Vicky', 'address': 'Yellow Garden 2'}\n",
      "{'_id': ObjectId('637f60090e93e43fbfb13354'), 'name': 'Ben', 'address': 'Park Lane 38'}\n",
      "{'_id': ObjectId('637f60090e93e43fbfb13355'), 'name': 'William', 'address': 'Central st 954'}\n",
      "{'_id': ObjectId('637f60090e93e43fbfb13356'), 'name': 'Chuck', 'address': 'Main Road 989'}\n",
      "{'_id': ObjectId('637f60090e93e43fbfb13357'), 'name': 'Viola', 'address': 'Sideway 1633'}\n",
      "{'_id': ObjectId('637f60a60e93e43fbfb13358'), 'name': 'Peter', 'address': 'Lowstreet 27'}\n",
      "{'_id': ObjectId('637f60a60e93e43fbfb13359'), 'name': 'Amy', 'address': 'Apple st 652'}\n",
      "{'_id': ObjectId('637f60a60e93e43fbfb1335a'), 'name': 'Hannah', 'address': 'Mountain 21'}\n",
      "{'_id': ObjectId('637f60a60e93e43fbfb1335b'), 'name': 'Michael', 'address': 'Valley 345'}\n",
      "{'_id': ObjectId('637f60a60e93e43fbfb1335c'), 'name': 'Sandy', 'address': 'Ocean blvd 2'}\n",
      "{'_id': ObjectId('637f60a60e93e43fbfb1335d'), 'name': 'Betty', 'address': 'Green Grass 1'}\n",
      "{'_id': ObjectId('637f60a60e93e43fbfb1335e'), 'name': 'Richard', 'address': 'Sky st 331'}\n",
      "{'_id': ObjectId('637f60a60e93e43fbfb1335f'), 'name': 'Susan', 'address': 'One way 98'}\n",
      "{'_id': ObjectId('637f60a60e93e43fbfb13360'), 'name': 'Vicky', 'address': 'Yellow Garden 2'}\n",
      "{'_id': ObjectId('637f60a60e93e43fbfb13361'), 'name': 'Ben', 'address': 'Park Lane 38'}\n",
      "{'_id': ObjectId('637f60a60e93e43fbfb13362'), 'name': 'William', 'address': 'Central st 954'}\n",
      "{'_id': ObjectId('637f60a60e93e43fbfb13363'), 'name': 'Chuck', 'address': 'Main Road 989'}\n",
      "{'_id': ObjectId('637f60a60e93e43fbfb13364'), 'name': 'Viola', 'address': 'Sideway 1633'}\n",
      "{'_id': 1, 'name': 'John', 'address': 'Highway 37'}\n",
      "{'_id': 2, 'name': 'Peter', 'address': 'Lowstreet 27'}\n",
      "{'_id': 3, 'name': 'Amy', 'address': 'Apple st 652'}\n",
      "{'_id': 4, 'name': 'Hannah', 'address': 'Mountain 21'}\n",
      "{'_id': 5, 'name': 'Michael', 'address': 'Valley 345'}\n",
      "{'_id': 6, 'name': 'Sandy', 'address': 'Ocean blvd 2'}\n",
      "{'_id': 7, 'name': 'Betty', 'address': 'Green Grass 1'}\n",
      "{'_id': 8, 'name': 'Richard', 'address': 'Sky st 331'}\n",
      "{'_id': 9, 'name': 'Susan', 'address': 'One way 98'}\n",
      "{'_id': 10, 'name': 'Vicky', 'address': 'Yellow Garden 2'}\n",
      "{'_id': 11, 'name': 'Ben', 'address': 'Park Lane 38'}\n",
      "{'_id': 12, 'name': 'William', 'address': 'Central st 954'}\n",
      "{'_id': 13, 'name': 'Chuck', 'address': 'Main Road 989'}\n",
      "{'_id': 14, 'name': 'Viola', 'address': 'Sideway 1633'}\n",
      "{'_id': ObjectId('637f60dc0e93e43fbfb13365'), 'name': 'Peter', 'address': 'Lowstreet 27'}\n",
      "{'_id': ObjectId('637f60dc0e93e43fbfb13366'), 'name': 'Amy', 'address': 'Apple st 652'}\n",
      "{'_id': ObjectId('637f60dc0e93e43fbfb13367'), 'name': 'Hannah', 'address': 'Mountain 21'}\n",
      "{'_id': ObjectId('637f60dc0e93e43fbfb13368'), 'name': 'Michael', 'address': 'Valley 345'}\n",
      "{'_id': ObjectId('637f60dc0e93e43fbfb13369'), 'name': 'Sandy', 'address': 'Ocean blvd 2'}\n",
      "{'_id': ObjectId('637f60dc0e93e43fbfb1336a'), 'name': 'Betty', 'address': 'Green Grass 1'}\n",
      "{'_id': ObjectId('637f60dc0e93e43fbfb1336b'), 'name': 'Richard', 'address': 'Sky st 331'}\n",
      "{'_id': ObjectId('637f60dc0e93e43fbfb1336c'), 'name': 'Susan', 'address': 'One way 98'}\n",
      "{'_id': ObjectId('637f60dc0e93e43fbfb1336d'), 'name': 'Vicky', 'address': 'Yellow Garden 2'}\n",
      "{'_id': ObjectId('637f60dc0e93e43fbfb1336e'), 'name': 'Ben', 'address': 'Park Lane 38'}\n",
      "{'_id': ObjectId('637f60dc0e93e43fbfb1336f'), 'name': 'William', 'address': 'Central st 954'}\n",
      "{'_id': ObjectId('637f60dc0e93e43fbfb13370'), 'name': 'Chuck', 'address': 'Main Road 989'}\n",
      "{'_id': ObjectId('637f60dc0e93e43fbfb13371'), 'name': 'Viola', 'address': 'Sideway 1633'}\n",
      "{'_id': ObjectId('637f615e0e93e43fbfb13374'), 'name': 'Peter', 'address': 'Lowstreet 27'}\n",
      "{'_id': ObjectId('637f615e0e93e43fbfb13375'), 'name': 'Amy', 'address': 'Apple st 652'}\n",
      "{'_id': ObjectId('637f615e0e93e43fbfb13376'), 'name': 'Hannah', 'address': 'Mountain 21'}\n",
      "{'_id': ObjectId('637f615e0e93e43fbfb13377'), 'name': 'Michael', 'address': 'Valley 345'}\n",
      "{'_id': ObjectId('637f615e0e93e43fbfb13378'), 'name': 'Sandy', 'address': 'Ocean blvd 2'}\n",
      "{'_id': ObjectId('637f615e0e93e43fbfb13379'), 'name': 'Betty', 'address': 'Green Grass 1'}\n",
      "{'_id': ObjectId('637f615e0e93e43fbfb1337a'), 'name': 'Richard', 'address': 'Sky st 331'}\n",
      "{'_id': ObjectId('637f615e0e93e43fbfb1337b'), 'name': 'Susan', 'address': 'One way 98'}\n",
      "{'_id': ObjectId('637f615e0e93e43fbfb1337c'), 'name': 'Vicky', 'address': 'Yellow Garden 2'}\n",
      "{'_id': ObjectId('637f615e0e93e43fbfb1337d'), 'name': 'Ben', 'address': 'Park Lane 38'}\n",
      "{'_id': ObjectId('637f615e0e93e43fbfb1337e'), 'name': 'William', 'address': 'Central st 954'}\n",
      "{'_id': ObjectId('637f615e0e93e43fbfb1337f'), 'name': 'Chuck', 'address': 'Main Road 989'}\n",
      "{'_id': ObjectId('637f615e0e93e43fbfb13380'), 'name': 'Viola', 'address': 'Sideway 1633'}\n"
     ]
    }
   ],
   "source": [
    "myclient = pymongo.MongoClient(\"mongodb://localhost:27017/\")\n",
    "mydb = myclient[\"mydatabase\"]\n",
    "mycol = mydb[\"customers\"]\n",
    "\n",
    "x = mycol.find_one()\n",
    "print(x)\n",
    "\n",
    "#find all\n",
    "for i in mycol.find():\n",
    "    print(i)"
   ]
  },
  {
   "cell_type": "code",
   "execution_count": 72,
   "metadata": {},
   "outputs": [
    {
     "name": "stdout",
     "output_type": "stream",
     "text": [
      "{'_id': ObjectId('637f5f570e93e43fbfb13345'), 'name': 'John'}\n",
      "{'_id': ObjectId('637f5f5a0e93e43fbfb13346'), 'name': 'John'}\n",
      "{'_id': ObjectId('637f5f6f0e93e43fbfb13347'), 'name': 'John'}\n",
      "{'_id': ObjectId('637f5f700e93e43fbfb13348'), 'name': 'John'}\n",
      "{'_id': ObjectId('637f5fcc0e93e43fbfb13349'), 'name': 'Peter'}\n",
      "{'_id': ObjectId('637f5fcd0e93e43fbfb1334a'), 'name': 'Peter'}\n",
      "{'_id': ObjectId('637f60090e93e43fbfb1334b'), 'name': 'Peter'}\n",
      "{'_id': ObjectId('637f60090e93e43fbfb1334c'), 'name': 'Amy'}\n",
      "{'_id': ObjectId('637f60090e93e43fbfb1334d'), 'name': 'Hannah'}\n",
      "{'_id': ObjectId('637f60090e93e43fbfb1334e'), 'name': 'Michael'}\n",
      "{'_id': ObjectId('637f60090e93e43fbfb1334f'), 'name': 'Sandy'}\n",
      "{'_id': ObjectId('637f60090e93e43fbfb13350'), 'name': 'Betty'}\n",
      "{'_id': ObjectId('637f60090e93e43fbfb13351'), 'name': 'Richard'}\n",
      "{'_id': ObjectId('637f60090e93e43fbfb13352'), 'name': 'Susan'}\n",
      "{'_id': ObjectId('637f60090e93e43fbfb13353'), 'name': 'Vicky'}\n",
      "{'_id': ObjectId('637f60090e93e43fbfb13354'), 'name': 'Ben'}\n",
      "{'_id': ObjectId('637f60090e93e43fbfb13355'), 'name': 'William'}\n",
      "{'_id': ObjectId('637f60090e93e43fbfb13356'), 'name': 'Chuck'}\n",
      "{'_id': ObjectId('637f60090e93e43fbfb13357'), 'name': 'Viola'}\n",
      "{'_id': ObjectId('637f60a60e93e43fbfb13358'), 'name': 'Peter'}\n",
      "{'_id': ObjectId('637f60a60e93e43fbfb13359'), 'name': 'Amy'}\n",
      "{'_id': ObjectId('637f60a60e93e43fbfb1335a'), 'name': 'Hannah'}\n",
      "{'_id': ObjectId('637f60a60e93e43fbfb1335b'), 'name': 'Michael'}\n",
      "{'_id': ObjectId('637f60a60e93e43fbfb1335c'), 'name': 'Sandy'}\n",
      "{'_id': ObjectId('637f60a60e93e43fbfb1335d'), 'name': 'Betty'}\n",
      "{'_id': ObjectId('637f60a60e93e43fbfb1335e'), 'name': 'Richard'}\n",
      "{'_id': ObjectId('637f60a60e93e43fbfb1335f'), 'name': 'Susan'}\n",
      "{'_id': ObjectId('637f60a60e93e43fbfb13360'), 'name': 'Vicky'}\n",
      "{'_id': ObjectId('637f60a60e93e43fbfb13361'), 'name': 'Ben'}\n",
      "{'_id': ObjectId('637f60a60e93e43fbfb13362'), 'name': 'William'}\n",
      "{'_id': ObjectId('637f60a60e93e43fbfb13363'), 'name': 'Chuck'}\n",
      "{'_id': ObjectId('637f60a60e93e43fbfb13364'), 'name': 'Viola'}\n",
      "{'_id': 1, 'name': 'John'}\n",
      "{'_id': 2, 'name': 'Peter'}\n",
      "{'_id': 3, 'name': 'Amy'}\n",
      "{'_id': 4, 'name': 'Hannah'}\n",
      "{'_id': 5, 'name': 'Michael'}\n",
      "{'_id': 6, 'name': 'Sandy'}\n",
      "{'_id': 7, 'name': 'Betty'}\n",
      "{'_id': 8, 'name': 'Richard'}\n",
      "{'_id': 9, 'name': 'Susan'}\n",
      "{'_id': 10, 'name': 'Vicky'}\n",
      "{'_id': 11, 'name': 'Ben'}\n",
      "{'_id': 12, 'name': 'William'}\n",
      "{'_id': 13, 'name': 'Chuck'}\n",
      "{'_id': 14, 'name': 'Viola'}\n",
      "{'_id': ObjectId('637f60dc0e93e43fbfb13365'), 'name': 'Peter'}\n",
      "{'_id': ObjectId('637f60dc0e93e43fbfb13366'), 'name': 'Amy'}\n",
      "{'_id': ObjectId('637f60dc0e93e43fbfb13367'), 'name': 'Hannah'}\n",
      "{'_id': ObjectId('637f60dc0e93e43fbfb13368'), 'name': 'Michael'}\n",
      "{'_id': ObjectId('637f60dc0e93e43fbfb13369'), 'name': 'Sandy'}\n",
      "{'_id': ObjectId('637f60dc0e93e43fbfb1336a'), 'name': 'Betty'}\n",
      "{'_id': ObjectId('637f60dc0e93e43fbfb1336b'), 'name': 'Richard'}\n",
      "{'_id': ObjectId('637f60dc0e93e43fbfb1336c'), 'name': 'Susan'}\n",
      "{'_id': ObjectId('637f60dc0e93e43fbfb1336d'), 'name': 'Vicky'}\n",
      "{'_id': ObjectId('637f60dc0e93e43fbfb1336e'), 'name': 'Ben'}\n",
      "{'_id': ObjectId('637f60dc0e93e43fbfb1336f'), 'name': 'William'}\n",
      "{'_id': ObjectId('637f60dc0e93e43fbfb13370'), 'name': 'Chuck'}\n",
      "{'_id': ObjectId('637f60dc0e93e43fbfb13371'), 'name': 'Viola'}\n",
      "{'_id': ObjectId('637f615e0e93e43fbfb13374'), 'name': 'Peter'}\n",
      "{'_id': ObjectId('637f615e0e93e43fbfb13375'), 'name': 'Amy'}\n",
      "{'_id': ObjectId('637f615e0e93e43fbfb13376'), 'name': 'Hannah'}\n",
      "{'_id': ObjectId('637f615e0e93e43fbfb13377'), 'name': 'Michael'}\n",
      "{'_id': ObjectId('637f615e0e93e43fbfb13378'), 'name': 'Sandy'}\n",
      "{'_id': ObjectId('637f615e0e93e43fbfb13379'), 'name': 'Betty'}\n",
      "{'_id': ObjectId('637f615e0e93e43fbfb1337a'), 'name': 'Richard'}\n",
      "{'_id': ObjectId('637f615e0e93e43fbfb1337b'), 'name': 'Susan'}\n",
      "{'_id': ObjectId('637f615e0e93e43fbfb1337c'), 'name': 'Vicky'}\n",
      "{'_id': ObjectId('637f615e0e93e43fbfb1337d'), 'name': 'Ben'}\n",
      "{'_id': ObjectId('637f615e0e93e43fbfb1337e'), 'name': 'William'}\n",
      "{'_id': ObjectId('637f615e0e93e43fbfb1337f'), 'name': 'Chuck'}\n",
      "{'_id': ObjectId('637f615e0e93e43fbfb13380'), 'name': 'Viola'}\n"
     ]
    }
   ],
   "source": [
    "#find definite one\n",
    "for x in mycol.find({},{\"address\":0}):\n",
    "    print(x)"
   ]
  },
  {
   "cell_type": "code",
   "execution_count": 77,
   "metadata": {},
   "outputs": [
    {
     "name": "stdout",
     "output_type": "stream",
     "text": [
      "{'_id': ObjectId('637f60090e93e43fbfb13354'), 'name': 'Ben', 'address': 'Park Lane 38'}\n",
      "{'_id': ObjectId('637f60a60e93e43fbfb13361'), 'name': 'Ben', 'address': 'Park Lane 38'}\n",
      "{'_id': 11, 'name': 'Ben', 'address': 'Park Lane 38'}\n",
      "{'_id': ObjectId('637f60dc0e93e43fbfb1336e'), 'name': 'Ben', 'address': 'Park Lane 38'}\n",
      "{'_id': ObjectId('637f615e0e93e43fbfb1337d'), 'name': 'Ben', 'address': 'Park Lane 38'}\n",
      "{'_id': ObjectId('637f60090e93e43fbfb1334e'), 'name': 'Michael', 'address': 'Valley 345'}\n",
      "{'_id': ObjectId('637f60090e93e43fbfb13351'), 'name': 'Richard', 'address': 'Sky st 331'}\n",
      "{'_id': ObjectId('637f60090e93e43fbfb13353'), 'name': 'Vicky', 'address': 'Yellow Garden 2'}\n",
      "{'_id': ObjectId('637f60090e93e43fbfb13357'), 'name': 'Viola', 'address': 'Sideway 1633'}\n",
      "{'_id': ObjectId('637f60a60e93e43fbfb1335b'), 'name': 'Michael', 'address': 'Valley 345'}\n",
      "{'_id': ObjectId('637f60a60e93e43fbfb1335e'), 'name': 'Richard', 'address': 'Sky st 331'}\n",
      "{'_id': ObjectId('637f60a60e93e43fbfb13360'), 'name': 'Vicky', 'address': 'Yellow Garden 2'}\n",
      "{'_id': ObjectId('637f60a60e93e43fbfb13364'), 'name': 'Viola', 'address': 'Sideway 1633'}\n",
      "{'_id': 5, 'name': 'Michael', 'address': 'Valley 345'}\n",
      "{'_id': 8, 'name': 'Richard', 'address': 'Sky st 331'}\n",
      "{'_id': 10, 'name': 'Vicky', 'address': 'Yellow Garden 2'}\n",
      "{'_id': 14, 'name': 'Viola', 'address': 'Sideway 1633'}\n",
      "{'_id': ObjectId('637f60dc0e93e43fbfb13368'), 'name': 'Michael', 'address': 'Valley 345'}\n",
      "{'_id': ObjectId('637f60dc0e93e43fbfb1336b'), 'name': 'Richard', 'address': 'Sky st 331'}\n",
      "{'_id': ObjectId('637f60dc0e93e43fbfb1336d'), 'name': 'Vicky', 'address': 'Yellow Garden 2'}\n",
      "{'_id': ObjectId('637f60dc0e93e43fbfb13371'), 'name': 'Viola', 'address': 'Sideway 1633'}\n",
      "{'_id': ObjectId('637f615e0e93e43fbfb13377'), 'name': 'Michael', 'address': 'Valley 345'}\n",
      "{'_id': ObjectId('637f615e0e93e43fbfb1337a'), 'name': 'Richard', 'address': 'Sky st 331'}\n",
      "{'_id': ObjectId('637f615e0e93e43fbfb1337c'), 'name': 'Vicky', 'address': 'Yellow Garden 2'}\n",
      "{'_id': ObjectId('637f615e0e93e43fbfb13380'), 'name': 'Viola', 'address': 'Sideway 1633'}\n"
     ]
    }
   ],
   "source": [
    "myquery = {\"address\":\"Park Lane 38\"}\n",
    "\n",
    "mydoc = mycol.find(myquery)\n",
    "for x in  mydoc:\n",
    "    print(x)\n",
    "\n",
    "myquery = {\"address\":{\"$gt\":\"S\"}}\n",
    "mydoc = mycol.find(myquery)\n",
    "for x in mydoc:\n",
    "    print(x)"
   ]
  },
  {
   "cell_type": "code",
   "execution_count": 79,
   "metadata": {},
   "outputs": [
    {
     "name": "stdout",
     "output_type": "stream",
     "text": [
      "{'_id': ObjectId('637f60090e93e43fbfb13351'), 'name': 'Richard', 'address': 'Sky st 331'}\n",
      "{'_id': ObjectId('637f60090e93e43fbfb13357'), 'name': 'Viola', 'address': 'Sideway 1633'}\n",
      "{'_id': ObjectId('637f60a60e93e43fbfb1335e'), 'name': 'Richard', 'address': 'Sky st 331'}\n",
      "{'_id': ObjectId('637f60a60e93e43fbfb13364'), 'name': 'Viola', 'address': 'Sideway 1633'}\n",
      "{'_id': 8, 'name': 'Richard', 'address': 'Sky st 331'}\n",
      "{'_id': 14, 'name': 'Viola', 'address': 'Sideway 1633'}\n",
      "{'_id': ObjectId('637f60dc0e93e43fbfb1336b'), 'name': 'Richard', 'address': 'Sky st 331'}\n",
      "{'_id': ObjectId('637f60dc0e93e43fbfb13371'), 'name': 'Viola', 'address': 'Sideway 1633'}\n",
      "{'_id': ObjectId('637f615e0e93e43fbfb1337a'), 'name': 'Richard', 'address': 'Sky st 331'}\n",
      "{'_id': ObjectId('637f615e0e93e43fbfb13380'), 'name': 'Viola', 'address': 'Sideway 1633'}\n"
     ]
    }
   ],
   "source": [
    "myquery = {\"address\":{\"$regex\":\"^S\"}}\n",
    "mydoc = mycol.find(myquery)\n",
    "for x in mydoc:\n",
    "    print(x)"
   ]
  },
  {
   "cell_type": "code",
   "execution_count": 81,
   "metadata": {},
   "outputs": [
    {
     "name": "stdout",
     "output_type": "stream",
     "text": [
      "{'_id': ObjectId('637f60090e93e43fbfb1334c'), 'name': 'Amy', 'address': 'Apple st 652'}\n",
      "{'_id': ObjectId('637f60a60e93e43fbfb13359'), 'name': 'Amy', 'address': 'Apple st 652'}\n",
      "{'_id': 3, 'name': 'Amy', 'address': 'Apple st 652'}\n",
      "{'_id': ObjectId('637f60dc0e93e43fbfb13366'), 'name': 'Amy', 'address': 'Apple st 652'}\n",
      "{'_id': ObjectId('637f615e0e93e43fbfb13375'), 'name': 'Amy', 'address': 'Apple st 652'}\n",
      "{'_id': ObjectId('637f60090e93e43fbfb13354'), 'name': 'Ben', 'address': 'Park Lane 38'}\n",
      "{'_id': ObjectId('637f60a60e93e43fbfb13361'), 'name': 'Ben', 'address': 'Park Lane 38'}\n",
      "{'_id': 11, 'name': 'Ben', 'address': 'Park Lane 38'}\n",
      "{'_id': ObjectId('637f60dc0e93e43fbfb1336e'), 'name': 'Ben', 'address': 'Park Lane 38'}\n",
      "{'_id': ObjectId('637f615e0e93e43fbfb1337d'), 'name': 'Ben', 'address': 'Park Lane 38'}\n",
      "{'_id': ObjectId('637f60090e93e43fbfb13350'), 'name': 'Betty', 'address': 'Green Grass 1'}\n",
      "{'_id': ObjectId('637f60a60e93e43fbfb1335d'), 'name': 'Betty', 'address': 'Green Grass 1'}\n",
      "{'_id': 7, 'name': 'Betty', 'address': 'Green Grass 1'}\n",
      "{'_id': ObjectId('637f60dc0e93e43fbfb1336a'), 'name': 'Betty', 'address': 'Green Grass 1'}\n",
      "{'_id': ObjectId('637f615e0e93e43fbfb13379'), 'name': 'Betty', 'address': 'Green Grass 1'}\n",
      "{'_id': ObjectId('637f60090e93e43fbfb13356'), 'name': 'Chuck', 'address': 'Main Road 989'}\n",
      "{'_id': ObjectId('637f60a60e93e43fbfb13363'), 'name': 'Chuck', 'address': 'Main Road 989'}\n",
      "{'_id': 13, 'name': 'Chuck', 'address': 'Main Road 989'}\n",
      "{'_id': ObjectId('637f60dc0e93e43fbfb13370'), 'name': 'Chuck', 'address': 'Main Road 989'}\n",
      "{'_id': ObjectId('637f615e0e93e43fbfb1337f'), 'name': 'Chuck', 'address': 'Main Road 989'}\n",
      "{'_id': ObjectId('637f60090e93e43fbfb1334d'), 'name': 'Hannah', 'address': 'Mountain 21'}\n",
      "{'_id': ObjectId('637f60a60e93e43fbfb1335a'), 'name': 'Hannah', 'address': 'Mountain 21'}\n",
      "{'_id': 4, 'name': 'Hannah', 'address': 'Mountain 21'}\n",
      "{'_id': ObjectId('637f60dc0e93e43fbfb13367'), 'name': 'Hannah', 'address': 'Mountain 21'}\n",
      "{'_id': ObjectId('637f615e0e93e43fbfb13376'), 'name': 'Hannah', 'address': 'Mountain 21'}\n",
      "{'_id': ObjectId('637f5f570e93e43fbfb13345'), 'name': 'John', 'address': 'Highway 37'}\n",
      "{'_id': ObjectId('637f5f5a0e93e43fbfb13346'), 'name': 'John', 'address': 'Highway 37'}\n",
      "{'_id': ObjectId('637f5f6f0e93e43fbfb13347'), 'name': 'John', 'address': 'Highway 37'}\n",
      "{'_id': ObjectId('637f5f700e93e43fbfb13348'), 'name': 'John', 'address': 'Highway 37'}\n",
      "{'_id': 1, 'name': 'John', 'address': 'Highway 37'}\n",
      "{'_id': ObjectId('637f60090e93e43fbfb1334e'), 'name': 'Michael', 'address': 'Valley 345'}\n",
      "{'_id': ObjectId('637f60a60e93e43fbfb1335b'), 'name': 'Michael', 'address': 'Valley 345'}\n",
      "{'_id': 5, 'name': 'Michael', 'address': 'Valley 345'}\n",
      "{'_id': ObjectId('637f60dc0e93e43fbfb13368'), 'name': 'Michael', 'address': 'Valley 345'}\n",
      "{'_id': ObjectId('637f615e0e93e43fbfb13377'), 'name': 'Michael', 'address': 'Valley 345'}\n",
      "{'_id': ObjectId('637f5fcc0e93e43fbfb13349'), 'name': 'Peter', 'address': 'Lowstreet 27'}\n",
      "{'_id': ObjectId('637f5fcd0e93e43fbfb1334a'), 'name': 'Peter', 'address': 'Lowstreet 27'}\n",
      "{'_id': ObjectId('637f60090e93e43fbfb1334b'), 'name': 'Peter', 'address': 'Lowstreet 27'}\n",
      "{'_id': ObjectId('637f60a60e93e43fbfb13358'), 'name': 'Peter', 'address': 'Lowstreet 27'}\n",
      "{'_id': 2, 'name': 'Peter', 'address': 'Lowstreet 27'}\n",
      "{'_id': ObjectId('637f60dc0e93e43fbfb13365'), 'name': 'Peter', 'address': 'Lowstreet 27'}\n",
      "{'_id': ObjectId('637f615e0e93e43fbfb13374'), 'name': 'Peter', 'address': 'Lowstreet 27'}\n",
      "{'_id': ObjectId('637f60090e93e43fbfb13351'), 'name': 'Richard', 'address': 'Sky st 331'}\n",
      "{'_id': ObjectId('637f60a60e93e43fbfb1335e'), 'name': 'Richard', 'address': 'Sky st 331'}\n",
      "{'_id': 8, 'name': 'Richard', 'address': 'Sky st 331'}\n",
      "{'_id': ObjectId('637f60dc0e93e43fbfb1336b'), 'name': 'Richard', 'address': 'Sky st 331'}\n",
      "{'_id': ObjectId('637f615e0e93e43fbfb1337a'), 'name': 'Richard', 'address': 'Sky st 331'}\n",
      "{'_id': ObjectId('637f60090e93e43fbfb1334f'), 'name': 'Sandy', 'address': 'Ocean blvd 2'}\n",
      "{'_id': ObjectId('637f60a60e93e43fbfb1335c'), 'name': 'Sandy', 'address': 'Ocean blvd 2'}\n",
      "{'_id': 6, 'name': 'Sandy', 'address': 'Ocean blvd 2'}\n",
      "{'_id': ObjectId('637f60dc0e93e43fbfb13369'), 'name': 'Sandy', 'address': 'Ocean blvd 2'}\n",
      "{'_id': ObjectId('637f615e0e93e43fbfb13378'), 'name': 'Sandy', 'address': 'Ocean blvd 2'}\n",
      "{'_id': ObjectId('637f60090e93e43fbfb13352'), 'name': 'Susan', 'address': 'One way 98'}\n",
      "{'_id': ObjectId('637f60a60e93e43fbfb1335f'), 'name': 'Susan', 'address': 'One way 98'}\n",
      "{'_id': 9, 'name': 'Susan', 'address': 'One way 98'}\n",
      "{'_id': ObjectId('637f60dc0e93e43fbfb1336c'), 'name': 'Susan', 'address': 'One way 98'}\n",
      "{'_id': ObjectId('637f615e0e93e43fbfb1337b'), 'name': 'Susan', 'address': 'One way 98'}\n",
      "{'_id': ObjectId('637f60090e93e43fbfb13353'), 'name': 'Vicky', 'address': 'Yellow Garden 2'}\n",
      "{'_id': ObjectId('637f60a60e93e43fbfb13360'), 'name': 'Vicky', 'address': 'Yellow Garden 2'}\n",
      "{'_id': 10, 'name': 'Vicky', 'address': 'Yellow Garden 2'}\n",
      "{'_id': ObjectId('637f60dc0e93e43fbfb1336d'), 'name': 'Vicky', 'address': 'Yellow Garden 2'}\n",
      "{'_id': ObjectId('637f615e0e93e43fbfb1337c'), 'name': 'Vicky', 'address': 'Yellow Garden 2'}\n",
      "{'_id': ObjectId('637f60090e93e43fbfb13357'), 'name': 'Viola', 'address': 'Sideway 1633'}\n",
      "{'_id': ObjectId('637f60a60e93e43fbfb13364'), 'name': 'Viola', 'address': 'Sideway 1633'}\n",
      "{'_id': 14, 'name': 'Viola', 'address': 'Sideway 1633'}\n",
      "{'_id': ObjectId('637f60dc0e93e43fbfb13371'), 'name': 'Viola', 'address': 'Sideway 1633'}\n",
      "{'_id': ObjectId('637f615e0e93e43fbfb13380'), 'name': 'Viola', 'address': 'Sideway 1633'}\n",
      "{'_id': ObjectId('637f60090e93e43fbfb13355'), 'name': 'William', 'address': 'Central st 954'}\n",
      "{'_id': ObjectId('637f60a60e93e43fbfb13362'), 'name': 'William', 'address': 'Central st 954'}\n",
      "{'_id': 12, 'name': 'William', 'address': 'Central st 954'}\n",
      "{'_id': ObjectId('637f60dc0e93e43fbfb1336f'), 'name': 'William', 'address': 'Central st 954'}\n",
      "{'_id': ObjectId('637f615e0e93e43fbfb1337e'), 'name': 'William', 'address': 'Central st 954'}\n"
     ]
    }
   ],
   "source": [
    "mydoc = mycol.find().sort(\"name\")\n",
    "for x in mydoc:\n",
    "    print(x)\n"
   ]
  },
  {
   "cell_type": "code",
   "execution_count": 82,
   "metadata": {},
   "outputs": [
    {
     "name": "stdout",
     "output_type": "stream",
     "text": [
      "{'_id': ObjectId('637f60090e93e43fbfb13355'), 'name': 'William', 'address': 'Central st 954'}\n",
      "{'_id': ObjectId('637f60a60e93e43fbfb13362'), 'name': 'William', 'address': 'Central st 954'}\n",
      "{'_id': 12, 'name': 'William', 'address': 'Central st 954'}\n",
      "{'_id': ObjectId('637f60dc0e93e43fbfb1336f'), 'name': 'William', 'address': 'Central st 954'}\n",
      "{'_id': ObjectId('637f615e0e93e43fbfb1337e'), 'name': 'William', 'address': 'Central st 954'}\n",
      "{'_id': ObjectId('637f60090e93e43fbfb13357'), 'name': 'Viola', 'address': 'Sideway 1633'}\n",
      "{'_id': ObjectId('637f60a60e93e43fbfb13364'), 'name': 'Viola', 'address': 'Sideway 1633'}\n",
      "{'_id': 14, 'name': 'Viola', 'address': 'Sideway 1633'}\n",
      "{'_id': ObjectId('637f60dc0e93e43fbfb13371'), 'name': 'Viola', 'address': 'Sideway 1633'}\n",
      "{'_id': ObjectId('637f615e0e93e43fbfb13380'), 'name': 'Viola', 'address': 'Sideway 1633'}\n",
      "{'_id': ObjectId('637f60090e93e43fbfb13353'), 'name': 'Vicky', 'address': 'Yellow Garden 2'}\n",
      "{'_id': ObjectId('637f60a60e93e43fbfb13360'), 'name': 'Vicky', 'address': 'Yellow Garden 2'}\n",
      "{'_id': 10, 'name': 'Vicky', 'address': 'Yellow Garden 2'}\n",
      "{'_id': ObjectId('637f60dc0e93e43fbfb1336d'), 'name': 'Vicky', 'address': 'Yellow Garden 2'}\n",
      "{'_id': ObjectId('637f615e0e93e43fbfb1337c'), 'name': 'Vicky', 'address': 'Yellow Garden 2'}\n",
      "{'_id': ObjectId('637f60090e93e43fbfb13352'), 'name': 'Susan', 'address': 'One way 98'}\n",
      "{'_id': ObjectId('637f60a60e93e43fbfb1335f'), 'name': 'Susan', 'address': 'One way 98'}\n",
      "{'_id': 9, 'name': 'Susan', 'address': 'One way 98'}\n",
      "{'_id': ObjectId('637f60dc0e93e43fbfb1336c'), 'name': 'Susan', 'address': 'One way 98'}\n",
      "{'_id': ObjectId('637f615e0e93e43fbfb1337b'), 'name': 'Susan', 'address': 'One way 98'}\n",
      "{'_id': ObjectId('637f60090e93e43fbfb1334f'), 'name': 'Sandy', 'address': 'Ocean blvd 2'}\n",
      "{'_id': ObjectId('637f60a60e93e43fbfb1335c'), 'name': 'Sandy', 'address': 'Ocean blvd 2'}\n",
      "{'_id': 6, 'name': 'Sandy', 'address': 'Ocean blvd 2'}\n",
      "{'_id': ObjectId('637f60dc0e93e43fbfb13369'), 'name': 'Sandy', 'address': 'Ocean blvd 2'}\n",
      "{'_id': ObjectId('637f615e0e93e43fbfb13378'), 'name': 'Sandy', 'address': 'Ocean blvd 2'}\n",
      "{'_id': ObjectId('637f60090e93e43fbfb13351'), 'name': 'Richard', 'address': 'Sky st 331'}\n",
      "{'_id': ObjectId('637f60a60e93e43fbfb1335e'), 'name': 'Richard', 'address': 'Sky st 331'}\n",
      "{'_id': 8, 'name': 'Richard', 'address': 'Sky st 331'}\n",
      "{'_id': ObjectId('637f60dc0e93e43fbfb1336b'), 'name': 'Richard', 'address': 'Sky st 331'}\n",
      "{'_id': ObjectId('637f615e0e93e43fbfb1337a'), 'name': 'Richard', 'address': 'Sky st 331'}\n",
      "{'_id': ObjectId('637f5fcc0e93e43fbfb13349'), 'name': 'Peter', 'address': 'Lowstreet 27'}\n",
      "{'_id': ObjectId('637f5fcd0e93e43fbfb1334a'), 'name': 'Peter', 'address': 'Lowstreet 27'}\n",
      "{'_id': ObjectId('637f60090e93e43fbfb1334b'), 'name': 'Peter', 'address': 'Lowstreet 27'}\n",
      "{'_id': ObjectId('637f60a60e93e43fbfb13358'), 'name': 'Peter', 'address': 'Lowstreet 27'}\n",
      "{'_id': 2, 'name': 'Peter', 'address': 'Lowstreet 27'}\n",
      "{'_id': ObjectId('637f60dc0e93e43fbfb13365'), 'name': 'Peter', 'address': 'Lowstreet 27'}\n",
      "{'_id': ObjectId('637f615e0e93e43fbfb13374'), 'name': 'Peter', 'address': 'Lowstreet 27'}\n",
      "{'_id': ObjectId('637f60090e93e43fbfb1334e'), 'name': 'Michael', 'address': 'Valley 345'}\n",
      "{'_id': ObjectId('637f60a60e93e43fbfb1335b'), 'name': 'Michael', 'address': 'Valley 345'}\n",
      "{'_id': 5, 'name': 'Michael', 'address': 'Valley 345'}\n",
      "{'_id': ObjectId('637f60dc0e93e43fbfb13368'), 'name': 'Michael', 'address': 'Valley 345'}\n",
      "{'_id': ObjectId('637f615e0e93e43fbfb13377'), 'name': 'Michael', 'address': 'Valley 345'}\n",
      "{'_id': ObjectId('637f5f570e93e43fbfb13345'), 'name': 'John', 'address': 'Highway 37'}\n",
      "{'_id': ObjectId('637f5f5a0e93e43fbfb13346'), 'name': 'John', 'address': 'Highway 37'}\n",
      "{'_id': ObjectId('637f5f6f0e93e43fbfb13347'), 'name': 'John', 'address': 'Highway 37'}\n",
      "{'_id': ObjectId('637f5f700e93e43fbfb13348'), 'name': 'John', 'address': 'Highway 37'}\n",
      "{'_id': 1, 'name': 'John', 'address': 'Highway 37'}\n",
      "{'_id': ObjectId('637f60090e93e43fbfb1334d'), 'name': 'Hannah', 'address': 'Mountain 21'}\n",
      "{'_id': ObjectId('637f60a60e93e43fbfb1335a'), 'name': 'Hannah', 'address': 'Mountain 21'}\n",
      "{'_id': 4, 'name': 'Hannah', 'address': 'Mountain 21'}\n",
      "{'_id': ObjectId('637f60dc0e93e43fbfb13367'), 'name': 'Hannah', 'address': 'Mountain 21'}\n",
      "{'_id': ObjectId('637f615e0e93e43fbfb13376'), 'name': 'Hannah', 'address': 'Mountain 21'}\n",
      "{'_id': ObjectId('637f60090e93e43fbfb13356'), 'name': 'Chuck', 'address': 'Main Road 989'}\n",
      "{'_id': ObjectId('637f60a60e93e43fbfb13363'), 'name': 'Chuck', 'address': 'Main Road 989'}\n",
      "{'_id': 13, 'name': 'Chuck', 'address': 'Main Road 989'}\n",
      "{'_id': ObjectId('637f60dc0e93e43fbfb13370'), 'name': 'Chuck', 'address': 'Main Road 989'}\n",
      "{'_id': ObjectId('637f615e0e93e43fbfb1337f'), 'name': 'Chuck', 'address': 'Main Road 989'}\n",
      "{'_id': ObjectId('637f60090e93e43fbfb13350'), 'name': 'Betty', 'address': 'Green Grass 1'}\n",
      "{'_id': ObjectId('637f60a60e93e43fbfb1335d'), 'name': 'Betty', 'address': 'Green Grass 1'}\n",
      "{'_id': 7, 'name': 'Betty', 'address': 'Green Grass 1'}\n",
      "{'_id': ObjectId('637f60dc0e93e43fbfb1336a'), 'name': 'Betty', 'address': 'Green Grass 1'}\n",
      "{'_id': ObjectId('637f615e0e93e43fbfb13379'), 'name': 'Betty', 'address': 'Green Grass 1'}\n",
      "{'_id': ObjectId('637f60090e93e43fbfb13354'), 'name': 'Ben', 'address': 'Park Lane 38'}\n",
      "{'_id': ObjectId('637f60a60e93e43fbfb13361'), 'name': 'Ben', 'address': 'Park Lane 38'}\n",
      "{'_id': 11, 'name': 'Ben', 'address': 'Park Lane 38'}\n",
      "{'_id': ObjectId('637f60dc0e93e43fbfb1336e'), 'name': 'Ben', 'address': 'Park Lane 38'}\n",
      "{'_id': ObjectId('637f615e0e93e43fbfb1337d'), 'name': 'Ben', 'address': 'Park Lane 38'}\n",
      "{'_id': ObjectId('637f60090e93e43fbfb1334c'), 'name': 'Amy', 'address': 'Apple st 652'}\n",
      "{'_id': ObjectId('637f60a60e93e43fbfb13359'), 'name': 'Amy', 'address': 'Apple st 652'}\n",
      "{'_id': 3, 'name': 'Amy', 'address': 'Apple st 652'}\n",
      "{'_id': ObjectId('637f60dc0e93e43fbfb13366'), 'name': 'Amy', 'address': 'Apple st 652'}\n",
      "{'_id': ObjectId('637f615e0e93e43fbfb13375'), 'name': 'Amy', 'address': 'Apple st 652'}\n"
     ]
    }
   ],
   "source": [
    "mydoc = mycol.find().sort(\"name\",-1)\n",
    "for x in mydoc:\n",
    "    print(x)"
   ]
  }
 ],
 "metadata": {
  "kernelspec": {
   "display_name": "Python 3.10.6 64-bit",
   "language": "python",
   "name": "python3"
  },
  "language_info": {
   "codemirror_mode": {
    "name": "ipython",
    "version": 3
   },
   "file_extension": ".py",
   "mimetype": "text/x-python",
   "name": "python",
   "nbconvert_exporter": "python",
   "pygments_lexer": "ipython3",
   "version": "3.10.6"
  },
  "orig_nbformat": 4,
  "vscode": {
   "interpreter": {
    "hash": "b0425e536a7e7cf49c49483d3faa5359af68fac38658aa7b1a7b75d51a866e27"
   }
  }
 },
 "nbformat": 4,
 "nbformat_minor": 2
}
