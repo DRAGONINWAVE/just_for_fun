{
 "cells": [
  {
   "cell_type": "code",
   "execution_count": 19,
   "metadata": {},
   "outputs": [
    {
     "name": "stdout",
     "output_type": "stream",
     "text": [
      "['3', '2', '1']\n"
     ]
    }
   ],
   "source": [
    "nums = [1,2,3]\n",
    "sum1 = 0\n",
    "for i in range(0,len(nums)):\n",
    "    sum1 += nums[i]*(10**i)\n",
    "sum1  = list(str(sum1))\n",
    "print(sum1)"
   ]
  },
  {
   "cell_type": "code",
   "execution_count": 21,
   "metadata": {},
   "outputs": [
    {
     "ename": "AttributeError",
     "evalue": "'Node' object has no attribute 'val'",
     "output_type": "error",
     "traceback": [
      "\u001b[1;31m---------------------------------------------------------------------------\u001b[0m",
      "\u001b[1;31mAttributeError\u001b[0m                            Traceback (most recent call last)",
      "Cell \u001b[1;32mIn [21], line 19\u001b[0m\n\u001b[0;32m     17\u001b[0m old_list \u001b[39m=\u001b[39m [\u001b[39m1\u001b[39m, \u001b[39m2\u001b[39m, \u001b[39m3\u001b[39m, \u001b[39m4\u001b[39m, \u001b[39m5\u001b[39m]\n\u001b[0;32m     18\u001b[0m link \u001b[39m=\u001b[39m list2link(old_list)\n\u001b[1;32m---> 19\u001b[0m \u001b[39mprint\u001b[39m(link\u001b[39m.\u001b[39;49mval)\n",
      "\u001b[1;31mAttributeError\u001b[0m: 'Node' object has no attribute 'val'"
     ]
    }
   ],
   "source": [
    "class Node:\n",
    "    def __init__(self, elem, next_=None):\n",
    "        self.elem = elem\n",
    "        self.next = next_\n",
    "\n",
    "\n",
    "def list2link(list_):\n",
    "    head = Node(list_[0])\n",
    "    p = head\n",
    "    for i in range(1, len(list_)):\n",
    "        p.next = Node(list_[i])\n",
    "        p = p.next\n",
    "    return head\n",
    "\n",
    "\n",
    "if __name__ == \"__main__\":\n",
    "    old_list = [1, 2, 3, 4, 5]\n",
    "    link = list2link(old_list)\n",
    "    print(link.elem\n"
   ]
  }
 ],
 "metadata": {
  "kernelspec": {
   "display_name": "Python 3",
   "language": "python",
   "name": "python3"
  },
  "language_info": {
   "codemirror_mode": {
    "name": "ipython",
    "version": 3
   },
   "file_extension": ".py",
   "mimetype": "text/x-python",
   "name": "python",
   "nbconvert_exporter": "python",
   "pygments_lexer": "ipython3",
   "version": "3.10.6"
  },
  "orig_nbformat": 4,
  "vscode": {
   "interpreter": {
    "hash": "b0425e536a7e7cf49c49483d3faa5359af68fac38658aa7b1a7b75d51a866e27"
   }
  }
 },
 "nbformat": 4,
 "nbformat_minor": 2
}
