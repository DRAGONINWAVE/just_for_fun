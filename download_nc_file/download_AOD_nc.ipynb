{
 "cells": [
  {
   "cell_type": "code",
   "execution_count": 1,
   "metadata": {},
   "outputs": [
    {
     "name": "stdout",
     "output_type": "stream",
     "text": [
      "requests.get() returned an error code 401\n"
     ]
    }
   ],
   "source": [
    "# Set the URL string to point to a specific data URL. Some generic examples are:\n",
    "#   https://servername/data/path/file\n",
    "#   https://servername/opendap/path/file[.format[?subset]]\n",
    "#   https://servername/daac-bin/OTF/HTTP_services.cgi?KEYWORD=value[&KEYWORD=value]\n",
    "import requests\n",
    "URL = r'https://goldsmr4.gesdisc.eosdis.nasa.gov/data/MERRA2/M2I3NXGAS.5.12.4/1980/01/MERRA2_100.inst3_2d_gas_Nx.19800101.nc4'\n",
    "\n",
    "# Set the FILENAME string to the data file name, the LABEL keyword value, or any customized name.\n",
    "FILENAME = r'D:\\just_for_fun\\download_nc_file'\n",
    "\n",
    "result = requests.get(URL)\n",
    "try:\n",
    "    result.raise_for_status()\n",
    "    f = open(FILENAME, 'wb')\n",
    "    f.write(result.content)\n",
    "    f.close()\n",
    "    print('contents of URL written to '+FILENAME)\n",
    "except:\n",
    "    print('requests.get() returned an error code '+str(result.status_code))\n"
   ]
  },
  {
   "cell_type": "code",
   "execution_count": 42,
   "metadata": {},
   "outputs": [
    {
     "ename": "AttributeError",
     "evalue": "'NoneType' object has no attribute 'select'",
     "output_type": "error",
     "traceback": [
      "\u001b[1;31m---------------------------------------------------------------------------\u001b[0m",
      "\u001b[1;31mAttributeError\u001b[0m                            Traceback (most recent call last)",
      "Cell \u001b[1;32mIn [42], line 4\u001b[0m\n\u001b[0;32m      2\u001b[0m \u001b[39mfrom\u001b[39;00m \u001b[39mpydap\u001b[39;00m\u001b[39m.\u001b[39;00m\u001b[39mcas\u001b[39;00m\u001b[39m.\u001b[39;00m\u001b[39murs\u001b[39;00m \u001b[39mimport\u001b[39;00m setup_session\n\u001b[0;32m      3\u001b[0m dataset_url \u001b[39m=\u001b[39m \u001b[39m'\u001b[39m\u001b[39mhttps://goldsmr4.gesdisc.eosdis.nasa.gov/data/MERRA2/M2I3NXGAS.5.12.4/1980/01/MERRA2_100.inst3_2d_gas_Nx.19800101.nc4\u001b[39m\u001b[39m'\u001b[39m\n\u001b[1;32m----> 4\u001b[0m session \u001b[39m=\u001b[39m setup_session(username\u001b[39m=\u001b[39;49m\u001b[39m'\u001b[39;49m\u001b[39mcolorful_dragon\u001b[39;49m\u001b[39m'\u001b[39;49m,\n\u001b[0;32m      5\u001b[0m                         password\u001b[39m=\u001b[39;49m\u001b[39m'\u001b[39;49m\u001b[39m!Ly17311809320\u001b[39;49m\u001b[39m'\u001b[39;49m,\n\u001b[0;32m      6\u001b[0m                         check_url\u001b[39m=\u001b[39;49mdataset_url)\n\u001b[0;32m      7\u001b[0m dataset \u001b[39m=\u001b[39m open_url(dataset_url, session\u001b[39m=\u001b[39msession)\n",
      "File \u001b[1;32md:\\python3.10_20221013\\lib\\site-packages\\pydap\\cas\\urs.py:14\u001b[0m, in \u001b[0;36msetup_session\u001b[1;34m(username, password, check_url, session, verify)\u001b[0m\n\u001b[0;32m     11\u001b[0m \u001b[39mif\u001b[39;00m session \u001b[39mis\u001b[39;00m \u001b[39mnot\u001b[39;00m \u001b[39mNone\u001b[39;00m:\n\u001b[0;32m     12\u001b[0m     \u001b[39m# URS connections cannot be kept alive at the moment.\u001b[39;00m\n\u001b[0;32m     13\u001b[0m     session\u001b[39m.\u001b[39mheaders\u001b[39m.\u001b[39mupdate({\u001b[39m'\u001b[39m\u001b[39mConnection\u001b[39m\u001b[39m'\u001b[39m: \u001b[39m'\u001b[39m\u001b[39mclose\u001b[39m\u001b[39m'\u001b[39m})\n\u001b[1;32m---> 14\u001b[0m session \u001b[39m=\u001b[39m get_cookies\u001b[39m.\u001b[39;49msetup_session(\u001b[39m'\u001b[39;49m\u001b[39mhttps://urs.earthdata.nasa.gov\u001b[39;49m\u001b[39m'\u001b[39;49m,\n\u001b[0;32m     15\u001b[0m                                     username\u001b[39m=\u001b[39;49musername,\n\u001b[0;32m     16\u001b[0m                                     password\u001b[39m=\u001b[39;49mpassword,\n\u001b[0;32m     17\u001b[0m                                     session\u001b[39m=\u001b[39;49msession,\n\u001b[0;32m     18\u001b[0m                                     check_url\u001b[39m=\u001b[39;49mcheck_url,\n\u001b[0;32m     19\u001b[0m                                     verify\u001b[39m=\u001b[39;49mverify)\n\u001b[0;32m     20\u001b[0m \u001b[39mreturn\u001b[39;00m session\n",
      "File \u001b[1;32md:\\python3.10_20221013\\lib\\site-packages\\pydap\\cas\\get_cookies.py:95\u001b[0m, in \u001b[0;36msetup_session\u001b[1;34m(uri, username, password, check_url, session, verify, username_field, password_field)\u001b[0m\n\u001b[0;32m     93\u001b[0m                 res \u001b[39m=\u001b[39m session\u001b[39m.\u001b[39mget(res\u001b[39m.\u001b[39murl, auth\u001b[39m=\u001b[39m(username, password))\n\u001b[0;32m     94\u001b[0m             res\u001b[39m.\u001b[39mclose()\n\u001b[1;32m---> 95\u001b[0m         raise_if_form_exists(check_url, session)\n\u001b[0;32m     97\u001b[0m \u001b[39mif\u001b[39;00m \u001b[39mnot\u001b[39;00m verify:\n\u001b[0;32m     98\u001b[0m     session\u001b[39m.\u001b[39mverify \u001b[39m=\u001b[39m verify_flag\n",
      "File \u001b[1;32md:\\python3.10_20221013\\lib\\site-packages\\pydap\\cas\\get_cookies.py:130\u001b[0m, in \u001b[0;36mraise_if_form_exists\u001b[1;34m(url, session)\u001b[0m\n\u001b[0;32m    125\u001b[0m \u001b[39mexcept\u001b[39;00m HTMLParseError:\n\u001b[0;32m    126\u001b[0m     \u001b[39m# This is important for the python 2.6 build:\u001b[39;00m\n\u001b[0;32m    127\u001b[0m     \u001b[39mraise\u001b[39;00m \u001b[39mUserWarning\u001b[39;00m(user_warning)\n\u001b[0;32m    129\u001b[0m \u001b[39mif\u001b[39;00m ((\u001b[39mhasattr\u001b[39m(login_page, \u001b[39m'\u001b[39m\u001b[39msoup\u001b[39m\u001b[39m'\u001b[39m) \u001b[39mand\u001b[39;00m\n\u001b[1;32m--> 130\u001b[0m    \u001b[39mlen\u001b[39m(login_page\u001b[39m.\u001b[39;49msoup\u001b[39m.\u001b[39;49mselect(\u001b[39m'\u001b[39m\u001b[39mform\u001b[39m\u001b[39m'\u001b[39m)) \u001b[39m>\u001b[39m \u001b[39m0\u001b[39m)):\n\u001b[0;32m    131\u001b[0m     \u001b[39mraise\u001b[39;00m \u001b[39mUserWarning\u001b[39;00m(user_warning)\n",
      "\u001b[1;31mAttributeError\u001b[0m: 'NoneType' object has no attribute 'select'"
     ]
    }
   ],
   "source": [
    "from pydap.client import open_url\n",
    "from pydap.cas.urs import setup_session\n",
    "dataset_url = 'https://goldsmr4.gesdisc.eosdis.nasa.gov/data/MERRA2/M2I3NXGAS.5.12.4/1980/01/MERRA2_100.inst3_2d_gas_Nx.19800101.nc4'\n",
    "session = setup_session(username='colorful_dragon',\n",
    "                        password='!Ly17311809320',\n",
    "                        check_url=dataset_url)\n",
    "dataset = open_url(dataset_url, session=session)\n"
   ]
  },
  {
   "cell_type": "code",
   "execution_count": 41,
   "metadata": {},
   "outputs": [
    {
     "ename": "HTTPError",
     "evalue": "404 Not Found",
     "output_type": "error",
     "traceback": [
      "\u001b[1;31m---------------------------------------------------------------------------\u001b[0m",
      "\u001b[1;31mHTTPError\u001b[0m                                 Traceback (most recent call last)",
      "Cell \u001b[1;32mIn [41], line 2\u001b[0m\n\u001b[0;32m      1\u001b[0m \u001b[39mfrom\u001b[39;00m \u001b[39mpydap\u001b[39;00m\u001b[39m.\u001b[39;00m\u001b[39mclient\u001b[39;00m \u001b[39mimport\u001b[39;00m open_url\n\u001b[1;32m----> 2\u001b[0m dataset \u001b[39m=\u001b[39m open_url(\n\u001b[0;32m      3\u001b[0m     \u001b[39m'\u001b[39;49m\u001b[39mhttps://goldsmr4.gesdisc.eosdis.nasa.gov/data/MERRA2/M2I3NXGAS.5.12.4/1980/01/MERRA2_100.inst3_2d_gas_Nx.19800101.nc4\u001b[39;49m\u001b[39m'\u001b[39;49m)\n\u001b[0;32m      4\u001b[0m \u001b[39mprint\u001b[39m(dataset)\n",
      "File \u001b[1;32md:\\python3.10_20221013\\lib\\site-packages\\pydap\\client.py:64\u001b[0m, in \u001b[0;36mopen_url\u001b[1;34m(url, application, session, output_grid)\u001b[0m\n\u001b[0;32m     57\u001b[0m \u001b[39mdef\u001b[39;00m \u001b[39mopen_url\u001b[39m(url, application\u001b[39m=\u001b[39m\u001b[39mNone\u001b[39;00m, session\u001b[39m=\u001b[39m\u001b[39mNone\u001b[39;00m, output_grid\u001b[39m=\u001b[39m\u001b[39mTrue\u001b[39;00m):\n\u001b[0;32m     58\u001b[0m     \u001b[39m\"\"\"\u001b[39;00m\n\u001b[0;32m     59\u001b[0m \u001b[39m    Open a remote URL, returning a dataset.\u001b[39;00m\n\u001b[0;32m     60\u001b[0m \n\u001b[0;32m     61\u001b[0m \u001b[39m    set output_grid to False to retrieve only main arrays and\u001b[39;00m\n\u001b[0;32m     62\u001b[0m \u001b[39m    never retrieve coordinate axes.\u001b[39;00m\n\u001b[0;32m     63\u001b[0m \u001b[39m    \"\"\"\u001b[39;00m\n\u001b[1;32m---> 64\u001b[0m     dataset \u001b[39m=\u001b[39m DAPHandler(url, application, session, output_grid)\u001b[39m.\u001b[39mdataset\n\u001b[0;32m     66\u001b[0m     \u001b[39m# attach server-side functions\u001b[39;00m\n\u001b[0;32m     67\u001b[0m     dataset\u001b[39m.\u001b[39mfunctions \u001b[39m=\u001b[39m Functions(url, application, session)\n",
      "File \u001b[1;32md:\\python3.10_20221013\\lib\\site-packages\\pydap\\handlers\\dap.py:51\u001b[0m, in \u001b[0;36mDAPHandler.__init__\u001b[1;34m(self, url, application, session, output_grid)\u001b[0m\n\u001b[0;32m     49\u001b[0m ddsurl \u001b[39m=\u001b[39m urlunsplit((scheme, netloc, path \u001b[39m+\u001b[39m \u001b[39m'\u001b[39m\u001b[39m.dds\u001b[39m\u001b[39m'\u001b[39m, query, fragment))\n\u001b[0;32m     50\u001b[0m r \u001b[39m=\u001b[39m GET(ddsurl, application, session)\n\u001b[1;32m---> 51\u001b[0m raise_for_status(r)\n\u001b[0;32m     52\u001b[0m \u001b[39mif\u001b[39;00m \u001b[39mnot\u001b[39;00m r\u001b[39m.\u001b[39mcharset:\n\u001b[0;32m     53\u001b[0m     r\u001b[39m.\u001b[39mcharset \u001b[39m=\u001b[39m \u001b[39m'\u001b[39m\u001b[39mascii\u001b[39m\u001b[39m'\u001b[39m\n",
      "File \u001b[1;32md:\\python3.10_20221013\\lib\\site-packages\\pydap\\net.py:27\u001b[0m, in \u001b[0;36mraise_for_status\u001b[1;34m(response)\u001b[0m\n\u001b[0;32m     25\u001b[0m \u001b[39mdef\u001b[39;00m \u001b[39mraise_for_status\u001b[39m(response):\n\u001b[0;32m     26\u001b[0m     \u001b[39mif\u001b[39;00m response\u001b[39m.\u001b[39mstatus_code \u001b[39m>\u001b[39m\u001b[39m=\u001b[39m \u001b[39m400\u001b[39m:\n\u001b[1;32m---> 27\u001b[0m         \u001b[39mraise\u001b[39;00m HTTPError(\n\u001b[0;32m     28\u001b[0m             detail\u001b[39m=\u001b[39mresponse\u001b[39m.\u001b[39mstatus,\n\u001b[0;32m     29\u001b[0m             headers\u001b[39m=\u001b[39mresponse\u001b[39m.\u001b[39mheaders,\n\u001b[0;32m     30\u001b[0m             comment\u001b[39m=\u001b[39mresponse\u001b[39m.\u001b[39mbody\n\u001b[0;32m     31\u001b[0m         )\n",
      "\u001b[1;31mHTTPError\u001b[0m: 404 Not Found"
     ]
    }
   ],
   "source": [
    "from pydap.client import open_url\n",
    "dataset = open_url(\n",
    "    'https://goldsmr4.gesdisc.eosdis.nasa.gov/data/MERRA2/M2I3NXGAS.5.12.4/1980/01/MERRA2_100.inst3_2d_gas_Nx.19800101.nc4')\n",
    "print(dataset)\n"
   ]
  }
 ],
 "metadata": {
  "kernelspec": {
   "display_name": "Python 3.10.6 64-bit",
   "language": "python",
   "name": "python3"
  },
  "language_info": {
   "codemirror_mode": {
    "name": "ipython",
    "version": 3
   },
   "file_extension": ".py",
   "mimetype": "text/x-python",
   "name": "python",
   "nbconvert_exporter": "python",
   "pygments_lexer": "ipython3",
   "version": "3.10.6"
  },
  "orig_nbformat": 4,
  "vscode": {
   "interpreter": {
    "hash": "b0425e536a7e7cf49c49483d3faa5359af68fac38658aa7b1a7b75d51a866e27"
   }
  }
 },
 "nbformat": 4,
 "nbformat_minor": 2
}
