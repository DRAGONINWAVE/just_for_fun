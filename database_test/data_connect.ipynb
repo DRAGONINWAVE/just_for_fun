{
 "cells": [
  {
   "cell_type": "code",
   "execution_count": 1,
   "metadata": {},
   "outputs": [],
   "source": [
    "import pymongo"
   ]
  },
  {
   "cell_type": "code",
   "execution_count": 6,
   "metadata": {},
   "outputs": [],
   "source": [
    "myclient = pymongo.MongoClient(\"mongodb://localhost:27017/\")\n",
    "mydb = myclient['mydatabase']"
   ]
  },
  {
   "cell_type": "code",
   "execution_count": 7,
   "metadata": {},
   "outputs": [
    {
     "ename": "ServerSelectionTimeoutError",
     "evalue": "localhost:27017: [WinError 10061] 由于目标计算机积极拒绝，无法连接。, Timeout: 30s, Topology Description: <TopologyDescription id: 638168cd2308c0ec93613285, topology_type: Unknown, servers: [<ServerDescription ('localhost', 27017) server_type: Unknown, rtt: None, error=AutoReconnect('localhost:27017: [WinError 10061] 由于目标计算机积极拒绝，无法连接。')>]>",
     "output_type": "error",
     "traceback": [
      "\u001b[1;31m---------------------------------------------------------------------------\u001b[0m",
      "\u001b[1;31mServerSelectionTimeoutError\u001b[0m               Traceback (most recent call last)",
      "Cell \u001b[1;32mIn [7], line 1\u001b[0m\n\u001b[1;32m----> 1\u001b[0m \u001b[39mprint\u001b[39m(myclient\u001b[39m.\u001b[39;49mlist_database_names())\n",
      "File \u001b[1;32md:\\python3.10_20221013\\lib\\site-packages\\pymongo\\mongo_client.py:1867\u001b[0m, in \u001b[0;36mMongoClient.list_database_names\u001b[1;34m(self, session, comment)\u001b[0m\n\u001b[0;32m   1849\u001b[0m \u001b[39mdef\u001b[39;00m \u001b[39mlist_database_names\u001b[39m(\n\u001b[0;32m   1850\u001b[0m     \u001b[39mself\u001b[39m,\n\u001b[0;32m   1851\u001b[0m     session: Optional[client_session\u001b[39m.\u001b[39mClientSession] \u001b[39m=\u001b[39m \u001b[39mNone\u001b[39;00m,\n\u001b[0;32m   1852\u001b[0m     comment: Optional[Any] \u001b[39m=\u001b[39m \u001b[39mNone\u001b[39;00m,\n\u001b[0;32m   1853\u001b[0m ) \u001b[39m-\u001b[39m\u001b[39m>\u001b[39m List[\u001b[39mstr\u001b[39m]:\n\u001b[0;32m   1854\u001b[0m     \u001b[39m\"\"\"Get a list of the names of all databases on the connected server.\u001b[39;00m\n\u001b[0;32m   1855\u001b[0m \n\u001b[0;32m   1856\u001b[0m \u001b[39m    :Parameters:\u001b[39;00m\n\u001b[1;32m   (...)\u001b[0m\n\u001b[0;32m   1865\u001b[0m \u001b[39m    .. versionadded:: 3.6\u001b[39;00m\n\u001b[0;32m   1866\u001b[0m \u001b[39m    \"\"\"\u001b[39;00m\n\u001b[1;32m-> 1867\u001b[0m     \u001b[39mreturn\u001b[39;00m [doc[\u001b[39m\"\u001b[39m\u001b[39mname\u001b[39m\u001b[39m\"\u001b[39m] \u001b[39mfor\u001b[39;00m doc \u001b[39min\u001b[39;00m \u001b[39mself\u001b[39;49m\u001b[39m.\u001b[39;49mlist_databases(session, nameOnly\u001b[39m=\u001b[39;49m\u001b[39mTrue\u001b[39;49;00m, comment\u001b[39m=\u001b[39;49mcomment)]\n",
      "File \u001b[1;32md:\\python3.10_20221013\\lib\\site-packages\\pymongo\\mongo_client.py:1840\u001b[0m, in \u001b[0;36mMongoClient.list_databases\u001b[1;34m(self, session, comment, **kwargs)\u001b[0m\n\u001b[0;32m   1838\u001b[0m     cmd[\u001b[39m\"\u001b[39m\u001b[39mcomment\u001b[39m\u001b[39m\"\u001b[39m] \u001b[39m=\u001b[39m comment\n\u001b[0;32m   1839\u001b[0m admin \u001b[39m=\u001b[39m \u001b[39mself\u001b[39m\u001b[39m.\u001b[39m_database_default_options(\u001b[39m\"\u001b[39m\u001b[39madmin\u001b[39m\u001b[39m\"\u001b[39m)\n\u001b[1;32m-> 1840\u001b[0m res \u001b[39m=\u001b[39m admin\u001b[39m.\u001b[39;49m_retryable_read_command(cmd, session\u001b[39m=\u001b[39;49msession)\n\u001b[0;32m   1841\u001b[0m \u001b[39m# listDatabases doesn't return a cursor (yet). Fake one.\u001b[39;00m\n\u001b[0;32m   1842\u001b[0m cursor \u001b[39m=\u001b[39m {\n\u001b[0;32m   1843\u001b[0m     \u001b[39m\"\u001b[39m\u001b[39mid\u001b[39m\u001b[39m\"\u001b[39m: \u001b[39m0\u001b[39m,\n\u001b[0;32m   1844\u001b[0m     \u001b[39m\"\u001b[39m\u001b[39mfirstBatch\u001b[39m\u001b[39m\"\u001b[39m: res[\u001b[39m\"\u001b[39m\u001b[39mdatabases\u001b[39m\u001b[39m\"\u001b[39m],\n\u001b[0;32m   1845\u001b[0m     \u001b[39m\"\u001b[39m\u001b[39mns\u001b[39m\u001b[39m\"\u001b[39m: \u001b[39m\"\u001b[39m\u001b[39madmin.$cmd\u001b[39m\u001b[39m\"\u001b[39m,\n\u001b[0;32m   1846\u001b[0m }\n",
      "File \u001b[1;32md:\\python3.10_20221013\\lib\\site-packages\\pymongo\\database.py:849\u001b[0m, in \u001b[0;36mDatabase._retryable_read_command\u001b[1;34m(self, command, value, check, allowable_errors, read_preference, codec_options, session, **kwargs)\u001b[0m\n\u001b[0;32m    836\u001b[0m \u001b[39mdef\u001b[39;00m \u001b[39m_cmd\u001b[39m(session, server, sock_info, read_preference):\n\u001b[0;32m    837\u001b[0m     \u001b[39mreturn\u001b[39;00m \u001b[39mself\u001b[39m\u001b[39m.\u001b[39m_command(\n\u001b[0;32m    838\u001b[0m         sock_info,\n\u001b[0;32m    839\u001b[0m         command,\n\u001b[1;32m   (...)\u001b[0m\n\u001b[0;32m    846\u001b[0m         \u001b[39m*\u001b[39m\u001b[39m*\u001b[39mkwargs,\n\u001b[0;32m    847\u001b[0m     )\n\u001b[1;32m--> 849\u001b[0m \u001b[39mreturn\u001b[39;00m \u001b[39mself\u001b[39;49m\u001b[39m.\u001b[39;49m__client\u001b[39m.\u001b[39;49m_retryable_read(_cmd, read_preference, session)\n",
      "File \u001b[1;32md:\\python3.10_20221013\\lib\\site-packages\\pymongo\\_csot.py:105\u001b[0m, in \u001b[0;36mapply.<locals>.csot_wrapper\u001b[1;34m(self, *args, **kwargs)\u001b[0m\n\u001b[0;32m    103\u001b[0m         \u001b[39mwith\u001b[39;00m _TimeoutContext(timeout):\n\u001b[0;32m    104\u001b[0m             \u001b[39mreturn\u001b[39;00m func(\u001b[39mself\u001b[39m, \u001b[39m*\u001b[39margs, \u001b[39m*\u001b[39m\u001b[39m*\u001b[39mkwargs)\n\u001b[1;32m--> 105\u001b[0m \u001b[39mreturn\u001b[39;00m func(\u001b[39mself\u001b[39m, \u001b[39m*\u001b[39margs, \u001b[39m*\u001b[39m\u001b[39m*\u001b[39mkwargs)\n",
      "File \u001b[1;32md:\\python3.10_20221013\\lib\\site-packages\\pymongo\\mongo_client.py:1441\u001b[0m, in \u001b[0;36mMongoClient._retryable_read\u001b[1;34m(self, func, read_pref, session, address, retryable)\u001b[0m\n\u001b[0;32m   1439\u001b[0m         \u001b[39mraise\u001b[39;00m last_error\n\u001b[0;32m   1440\u001b[0m \u001b[39mtry\u001b[39;00m:\n\u001b[1;32m-> 1441\u001b[0m     server \u001b[39m=\u001b[39m \u001b[39mself\u001b[39;49m\u001b[39m.\u001b[39;49m_select_server(read_pref, session, address\u001b[39m=\u001b[39;49maddress)\n\u001b[0;32m   1442\u001b[0m     \u001b[39mwith\u001b[39;00m \u001b[39mself\u001b[39m\u001b[39m.\u001b[39m_socket_from_server(read_pref, server, session) \u001b[39mas\u001b[39;00m (sock_info, read_pref):\n\u001b[0;32m   1443\u001b[0m         \u001b[39mif\u001b[39;00m retrying \u001b[39mand\u001b[39;00m \u001b[39mnot\u001b[39;00m retryable:\n\u001b[0;32m   1444\u001b[0m             \u001b[39m# A retry is not possible because this server does\u001b[39;00m\n\u001b[0;32m   1445\u001b[0m             \u001b[39m# not support retryable reads, raise the last error.\u001b[39;00m\n",
      "File \u001b[1;32md:\\python3.10_20221013\\lib\\site-packages\\pymongo\\mongo_client.py:1257\u001b[0m, in \u001b[0;36mMongoClient._select_server\u001b[1;34m(self, server_selector, session, address)\u001b[0m\n\u001b[0;32m   1255\u001b[0m             \u001b[39mraise\u001b[39;00m AutoReconnect(\u001b[39m\"\u001b[39m\u001b[39mserver \u001b[39m\u001b[39m%s\u001b[39;00m\u001b[39m:\u001b[39m\u001b[39m%d\u001b[39;00m\u001b[39m no longer available\u001b[39m\u001b[39m\"\u001b[39m \u001b[39m%\u001b[39m address)\n\u001b[0;32m   1256\u001b[0m     \u001b[39melse\u001b[39;00m:\n\u001b[1;32m-> 1257\u001b[0m         server \u001b[39m=\u001b[39m topology\u001b[39m.\u001b[39;49mselect_server(server_selector)\n\u001b[0;32m   1258\u001b[0m     \u001b[39mreturn\u001b[39;00m server\n\u001b[0;32m   1259\u001b[0m \u001b[39mexcept\u001b[39;00m PyMongoError \u001b[39mas\u001b[39;00m exc:\n\u001b[0;32m   1260\u001b[0m     \u001b[39m# Server selection errors in a transaction are transient.\u001b[39;00m\n",
      "File \u001b[1;32md:\\python3.10_20221013\\lib\\site-packages\\pymongo\\topology.py:272\u001b[0m, in \u001b[0;36mTopology.select_server\u001b[1;34m(self, selector, server_selection_timeout, address)\u001b[0m\n\u001b[0;32m    270\u001b[0m \u001b[39mdef\u001b[39;00m \u001b[39mselect_server\u001b[39m(\u001b[39mself\u001b[39m, selector, server_selection_timeout\u001b[39m=\u001b[39m\u001b[39mNone\u001b[39;00m, address\u001b[39m=\u001b[39m\u001b[39mNone\u001b[39;00m):\n\u001b[0;32m    271\u001b[0m     \u001b[39m\"\"\"Like select_servers, but choose a random server if several match.\"\"\"\u001b[39;00m\n\u001b[1;32m--> 272\u001b[0m     server \u001b[39m=\u001b[39m \u001b[39mself\u001b[39;49m\u001b[39m.\u001b[39;49m_select_server(selector, server_selection_timeout, address)\n\u001b[0;32m    273\u001b[0m     \u001b[39mif\u001b[39;00m _csot\u001b[39m.\u001b[39mget_timeout():\n\u001b[0;32m    274\u001b[0m         _csot\u001b[39m.\u001b[39mset_rtt(server\u001b[39m.\u001b[39mdescription\u001b[39m.\u001b[39mround_trip_time)\n",
      "File \u001b[1;32md:\\python3.10_20221013\\lib\\site-packages\\pymongo\\topology.py:261\u001b[0m, in \u001b[0;36mTopology._select_server\u001b[1;34m(self, selector, server_selection_timeout, address)\u001b[0m\n\u001b[0;32m    260\u001b[0m \u001b[39mdef\u001b[39;00m \u001b[39m_select_server\u001b[39m(\u001b[39mself\u001b[39m, selector, server_selection_timeout\u001b[39m=\u001b[39m\u001b[39mNone\u001b[39;00m, address\u001b[39m=\u001b[39m\u001b[39mNone\u001b[39;00m):\n\u001b[1;32m--> 261\u001b[0m     servers \u001b[39m=\u001b[39m \u001b[39mself\u001b[39;49m\u001b[39m.\u001b[39;49mselect_servers(selector, server_selection_timeout, address)\n\u001b[0;32m    262\u001b[0m     \u001b[39mif\u001b[39;00m \u001b[39mlen\u001b[39m(servers) \u001b[39m==\u001b[39m \u001b[39m1\u001b[39m:\n\u001b[0;32m    263\u001b[0m         \u001b[39mreturn\u001b[39;00m servers[\u001b[39m0\u001b[39m]\n",
      "File \u001b[1;32md:\\python3.10_20221013\\lib\\site-packages\\pymongo\\topology.py:223\u001b[0m, in \u001b[0;36mTopology.select_servers\u001b[1;34m(self, selector, server_selection_timeout, address)\u001b[0m\n\u001b[0;32m    220\u001b[0m     server_timeout \u001b[39m=\u001b[39m server_selection_timeout\n\u001b[0;32m    222\u001b[0m \u001b[39mwith\u001b[39;00m \u001b[39mself\u001b[39m\u001b[39m.\u001b[39m_lock:\n\u001b[1;32m--> 223\u001b[0m     server_descriptions \u001b[39m=\u001b[39m \u001b[39mself\u001b[39;49m\u001b[39m.\u001b[39;49m_select_servers_loop(selector, server_timeout, address)\n\u001b[0;32m    225\u001b[0m     \u001b[39mreturn\u001b[39;00m [\u001b[39mself\u001b[39m\u001b[39m.\u001b[39mget_server_by_address(sd\u001b[39m.\u001b[39maddress) \u001b[39mfor\u001b[39;00m sd \u001b[39min\u001b[39;00m server_descriptions]\n",
      "File \u001b[1;32md:\\python3.10_20221013\\lib\\site-packages\\pymongo\\topology.py:238\u001b[0m, in \u001b[0;36mTopology._select_servers_loop\u001b[1;34m(self, selector, timeout, address)\u001b[0m\n\u001b[0;32m    235\u001b[0m \u001b[39mwhile\u001b[39;00m \u001b[39mnot\u001b[39;00m server_descriptions:\n\u001b[0;32m    236\u001b[0m     \u001b[39m# No suitable servers.\u001b[39;00m\n\u001b[0;32m    237\u001b[0m     \u001b[39mif\u001b[39;00m timeout \u001b[39m==\u001b[39m \u001b[39m0\u001b[39m \u001b[39mor\u001b[39;00m now \u001b[39m>\u001b[39m end_time:\n\u001b[1;32m--> 238\u001b[0m         \u001b[39mraise\u001b[39;00m ServerSelectionTimeoutError(\n\u001b[0;32m    239\u001b[0m             \u001b[39m\"\u001b[39m\u001b[39m%s\u001b[39;00m\u001b[39m, Timeout: \u001b[39m\u001b[39m%s\u001b[39;00m\u001b[39ms, Topology Description: \u001b[39m\u001b[39m%r\u001b[39;00m\u001b[39m\"\u001b[39m\n\u001b[0;32m    240\u001b[0m             \u001b[39m%\u001b[39m (\u001b[39mself\u001b[39m\u001b[39m.\u001b[39m_error_message(selector), timeout, \u001b[39mself\u001b[39m\u001b[39m.\u001b[39mdescription)\n\u001b[0;32m    241\u001b[0m         )\n\u001b[0;32m    243\u001b[0m     \u001b[39mself\u001b[39m\u001b[39m.\u001b[39m_ensure_opened()\n\u001b[0;32m    244\u001b[0m     \u001b[39mself\u001b[39m\u001b[39m.\u001b[39m_request_check_all()\n",
      "\u001b[1;31mServerSelectionTimeoutError\u001b[0m: localhost:27017: [WinError 10061] 由于目标计算机积极拒绝，无法连接。, Timeout: 30s, Topology Description: <TopologyDescription id: 638168cd2308c0ec93613285, topology_type: Unknown, servers: [<ServerDescription ('localhost', 27017) server_type: Unknown, rtt: None, error=AutoReconnect('localhost:27017: [WinError 10061] 由于目标计算机积极拒绝，无法连接。')>]>"
     ]
    }
   ],
   "source": [
    "print(myclient.list_database_names())"
   ]
  },
  {
   "cell_type": "code",
   "execution_count": 5,
   "metadata": {},
   "outputs": [
    {
     "ename": "ServerSelectionTimeoutError",
     "evalue": "localhost:27017: [WinError 10061] 由于目标计算机积极拒绝，无法连接。, Timeout: 30s, Topology Description: <TopologyDescription id: 638164d02308c0ec93613284, topology_type: Unknown, servers: [<ServerDescription ('localhost', 27017) server_type: Unknown, rtt: None, error=AutoReconnect('localhost:27017: [WinError 10061] 由于目标计算机积极拒绝，无法连接。')>]>",
     "output_type": "error",
     "traceback": [
      "\u001b[1;31m---------------------------------------------------------------------------\u001b[0m",
      "\u001b[1;31mServerSelectionTimeoutError\u001b[0m               Traceback (most recent call last)",
      "Cell \u001b[1;32mIn [5], line 1\u001b[0m\n\u001b[1;32m----> 1\u001b[0m dblist \u001b[39m=\u001b[39m myclient\u001b[39m.\u001b[39;49mlist_database_names()\n\u001b[0;32m      2\u001b[0m \u001b[39mif\u001b[39;00m \u001b[39m\"\u001b[39m\u001b[39mmydatabase\u001b[39m\u001b[39m\"\u001b[39m \u001b[39min\u001b[39;00m dblist:\n\u001b[0;32m      3\u001b[0m     \u001b[39mprint\u001b[39m(\u001b[39m\"\u001b[39m\u001b[39mThe database exits.\u001b[39m\u001b[39m\"\u001b[39m)\n",
      "File \u001b[1;32md:\\python3.10_20221013\\lib\\site-packages\\pymongo\\mongo_client.py:1867\u001b[0m, in \u001b[0;36mMongoClient.list_database_names\u001b[1;34m(self, session, comment)\u001b[0m\n\u001b[0;32m   1849\u001b[0m \u001b[39mdef\u001b[39;00m \u001b[39mlist_database_names\u001b[39m(\n\u001b[0;32m   1850\u001b[0m     \u001b[39mself\u001b[39m,\n\u001b[0;32m   1851\u001b[0m     session: Optional[client_session\u001b[39m.\u001b[39mClientSession] \u001b[39m=\u001b[39m \u001b[39mNone\u001b[39;00m,\n\u001b[0;32m   1852\u001b[0m     comment: Optional[Any] \u001b[39m=\u001b[39m \u001b[39mNone\u001b[39;00m,\n\u001b[0;32m   1853\u001b[0m ) \u001b[39m-\u001b[39m\u001b[39m>\u001b[39m List[\u001b[39mstr\u001b[39m]:\n\u001b[0;32m   1854\u001b[0m     \u001b[39m\"\"\"Get a list of the names of all databases on the connected server.\u001b[39;00m\n\u001b[0;32m   1855\u001b[0m \n\u001b[0;32m   1856\u001b[0m \u001b[39m    :Parameters:\u001b[39;00m\n\u001b[1;32m   (...)\u001b[0m\n\u001b[0;32m   1865\u001b[0m \u001b[39m    .. versionadded:: 3.6\u001b[39;00m\n\u001b[0;32m   1866\u001b[0m \u001b[39m    \"\"\"\u001b[39;00m\n\u001b[1;32m-> 1867\u001b[0m     \u001b[39mreturn\u001b[39;00m [doc[\u001b[39m\"\u001b[39m\u001b[39mname\u001b[39m\u001b[39m\"\u001b[39m] \u001b[39mfor\u001b[39;00m doc \u001b[39min\u001b[39;00m \u001b[39mself\u001b[39;49m\u001b[39m.\u001b[39;49mlist_databases(session, nameOnly\u001b[39m=\u001b[39;49m\u001b[39mTrue\u001b[39;49;00m, comment\u001b[39m=\u001b[39;49mcomment)]\n",
      "File \u001b[1;32md:\\python3.10_20221013\\lib\\site-packages\\pymongo\\mongo_client.py:1840\u001b[0m, in \u001b[0;36mMongoClient.list_databases\u001b[1;34m(self, session, comment, **kwargs)\u001b[0m\n\u001b[0;32m   1838\u001b[0m     cmd[\u001b[39m\"\u001b[39m\u001b[39mcomment\u001b[39m\u001b[39m\"\u001b[39m] \u001b[39m=\u001b[39m comment\n\u001b[0;32m   1839\u001b[0m admin \u001b[39m=\u001b[39m \u001b[39mself\u001b[39m\u001b[39m.\u001b[39m_database_default_options(\u001b[39m\"\u001b[39m\u001b[39madmin\u001b[39m\u001b[39m\"\u001b[39m)\n\u001b[1;32m-> 1840\u001b[0m res \u001b[39m=\u001b[39m admin\u001b[39m.\u001b[39;49m_retryable_read_command(cmd, session\u001b[39m=\u001b[39;49msession)\n\u001b[0;32m   1841\u001b[0m \u001b[39m# listDatabases doesn't return a cursor (yet). Fake one.\u001b[39;00m\n\u001b[0;32m   1842\u001b[0m cursor \u001b[39m=\u001b[39m {\n\u001b[0;32m   1843\u001b[0m     \u001b[39m\"\u001b[39m\u001b[39mid\u001b[39m\u001b[39m\"\u001b[39m: \u001b[39m0\u001b[39m,\n\u001b[0;32m   1844\u001b[0m     \u001b[39m\"\u001b[39m\u001b[39mfirstBatch\u001b[39m\u001b[39m\"\u001b[39m: res[\u001b[39m\"\u001b[39m\u001b[39mdatabases\u001b[39m\u001b[39m\"\u001b[39m],\n\u001b[0;32m   1845\u001b[0m     \u001b[39m\"\u001b[39m\u001b[39mns\u001b[39m\u001b[39m\"\u001b[39m: \u001b[39m\"\u001b[39m\u001b[39madmin.$cmd\u001b[39m\u001b[39m\"\u001b[39m,\n\u001b[0;32m   1846\u001b[0m }\n",
      "File \u001b[1;32md:\\python3.10_20221013\\lib\\site-packages\\pymongo\\database.py:849\u001b[0m, in \u001b[0;36mDatabase._retryable_read_command\u001b[1;34m(self, command, value, check, allowable_errors, read_preference, codec_options, session, **kwargs)\u001b[0m\n\u001b[0;32m    836\u001b[0m \u001b[39mdef\u001b[39;00m \u001b[39m_cmd\u001b[39m(session, server, sock_info, read_preference):\n\u001b[0;32m    837\u001b[0m     \u001b[39mreturn\u001b[39;00m \u001b[39mself\u001b[39m\u001b[39m.\u001b[39m_command(\n\u001b[0;32m    838\u001b[0m         sock_info,\n\u001b[0;32m    839\u001b[0m         command,\n\u001b[1;32m   (...)\u001b[0m\n\u001b[0;32m    846\u001b[0m         \u001b[39m*\u001b[39m\u001b[39m*\u001b[39mkwargs,\n\u001b[0;32m    847\u001b[0m     )\n\u001b[1;32m--> 849\u001b[0m \u001b[39mreturn\u001b[39;00m \u001b[39mself\u001b[39;49m\u001b[39m.\u001b[39;49m__client\u001b[39m.\u001b[39;49m_retryable_read(_cmd, read_preference, session)\n",
      "File \u001b[1;32md:\\python3.10_20221013\\lib\\site-packages\\pymongo\\_csot.py:105\u001b[0m, in \u001b[0;36mapply.<locals>.csot_wrapper\u001b[1;34m(self, *args, **kwargs)\u001b[0m\n\u001b[0;32m    103\u001b[0m         \u001b[39mwith\u001b[39;00m _TimeoutContext(timeout):\n\u001b[0;32m    104\u001b[0m             \u001b[39mreturn\u001b[39;00m func(\u001b[39mself\u001b[39m, \u001b[39m*\u001b[39margs, \u001b[39m*\u001b[39m\u001b[39m*\u001b[39mkwargs)\n\u001b[1;32m--> 105\u001b[0m \u001b[39mreturn\u001b[39;00m func(\u001b[39mself\u001b[39m, \u001b[39m*\u001b[39margs, \u001b[39m*\u001b[39m\u001b[39m*\u001b[39mkwargs)\n",
      "File \u001b[1;32md:\\python3.10_20221013\\lib\\site-packages\\pymongo\\mongo_client.py:1441\u001b[0m, in \u001b[0;36mMongoClient._retryable_read\u001b[1;34m(self, func, read_pref, session, address, retryable)\u001b[0m\n\u001b[0;32m   1439\u001b[0m         \u001b[39mraise\u001b[39;00m last_error\n\u001b[0;32m   1440\u001b[0m \u001b[39mtry\u001b[39;00m:\n\u001b[1;32m-> 1441\u001b[0m     server \u001b[39m=\u001b[39m \u001b[39mself\u001b[39;49m\u001b[39m.\u001b[39;49m_select_server(read_pref, session, address\u001b[39m=\u001b[39;49maddress)\n\u001b[0;32m   1442\u001b[0m     \u001b[39mwith\u001b[39;00m \u001b[39mself\u001b[39m\u001b[39m.\u001b[39m_socket_from_server(read_pref, server, session) \u001b[39mas\u001b[39;00m (sock_info, read_pref):\n\u001b[0;32m   1443\u001b[0m         \u001b[39mif\u001b[39;00m retrying \u001b[39mand\u001b[39;00m \u001b[39mnot\u001b[39;00m retryable:\n\u001b[0;32m   1444\u001b[0m             \u001b[39m# A retry is not possible because this server does\u001b[39;00m\n\u001b[0;32m   1445\u001b[0m             \u001b[39m# not support retryable reads, raise the last error.\u001b[39;00m\n",
      "File \u001b[1;32md:\\python3.10_20221013\\lib\\site-packages\\pymongo\\mongo_client.py:1257\u001b[0m, in \u001b[0;36mMongoClient._select_server\u001b[1;34m(self, server_selector, session, address)\u001b[0m\n\u001b[0;32m   1255\u001b[0m             \u001b[39mraise\u001b[39;00m AutoReconnect(\u001b[39m\"\u001b[39m\u001b[39mserver \u001b[39m\u001b[39m%s\u001b[39;00m\u001b[39m:\u001b[39m\u001b[39m%d\u001b[39;00m\u001b[39m no longer available\u001b[39m\u001b[39m\"\u001b[39m \u001b[39m%\u001b[39m address)\n\u001b[0;32m   1256\u001b[0m     \u001b[39melse\u001b[39;00m:\n\u001b[1;32m-> 1257\u001b[0m         server \u001b[39m=\u001b[39m topology\u001b[39m.\u001b[39;49mselect_server(server_selector)\n\u001b[0;32m   1258\u001b[0m     \u001b[39mreturn\u001b[39;00m server\n\u001b[0;32m   1259\u001b[0m \u001b[39mexcept\u001b[39;00m PyMongoError \u001b[39mas\u001b[39;00m exc:\n\u001b[0;32m   1260\u001b[0m     \u001b[39m# Server selection errors in a transaction are transient.\u001b[39;00m\n",
      "File \u001b[1;32md:\\python3.10_20221013\\lib\\site-packages\\pymongo\\topology.py:272\u001b[0m, in \u001b[0;36mTopology.select_server\u001b[1;34m(self, selector, server_selection_timeout, address)\u001b[0m\n\u001b[0;32m    270\u001b[0m \u001b[39mdef\u001b[39;00m \u001b[39mselect_server\u001b[39m(\u001b[39mself\u001b[39m, selector, server_selection_timeout\u001b[39m=\u001b[39m\u001b[39mNone\u001b[39;00m, address\u001b[39m=\u001b[39m\u001b[39mNone\u001b[39;00m):\n\u001b[0;32m    271\u001b[0m     \u001b[39m\"\"\"Like select_servers, but choose a random server if several match.\"\"\"\u001b[39;00m\n\u001b[1;32m--> 272\u001b[0m     server \u001b[39m=\u001b[39m \u001b[39mself\u001b[39;49m\u001b[39m.\u001b[39;49m_select_server(selector, server_selection_timeout, address)\n\u001b[0;32m    273\u001b[0m     \u001b[39mif\u001b[39;00m _csot\u001b[39m.\u001b[39mget_timeout():\n\u001b[0;32m    274\u001b[0m         _csot\u001b[39m.\u001b[39mset_rtt(server\u001b[39m.\u001b[39mdescription\u001b[39m.\u001b[39mround_trip_time)\n",
      "File \u001b[1;32md:\\python3.10_20221013\\lib\\site-packages\\pymongo\\topology.py:261\u001b[0m, in \u001b[0;36mTopology._select_server\u001b[1;34m(self, selector, server_selection_timeout, address)\u001b[0m\n\u001b[0;32m    260\u001b[0m \u001b[39mdef\u001b[39;00m \u001b[39m_select_server\u001b[39m(\u001b[39mself\u001b[39m, selector, server_selection_timeout\u001b[39m=\u001b[39m\u001b[39mNone\u001b[39;00m, address\u001b[39m=\u001b[39m\u001b[39mNone\u001b[39;00m):\n\u001b[1;32m--> 261\u001b[0m     servers \u001b[39m=\u001b[39m \u001b[39mself\u001b[39;49m\u001b[39m.\u001b[39;49mselect_servers(selector, server_selection_timeout, address)\n\u001b[0;32m    262\u001b[0m     \u001b[39mif\u001b[39;00m \u001b[39mlen\u001b[39m(servers) \u001b[39m==\u001b[39m \u001b[39m1\u001b[39m:\n\u001b[0;32m    263\u001b[0m         \u001b[39mreturn\u001b[39;00m servers[\u001b[39m0\u001b[39m]\n",
      "File \u001b[1;32md:\\python3.10_20221013\\lib\\site-packages\\pymongo\\topology.py:223\u001b[0m, in \u001b[0;36mTopology.select_servers\u001b[1;34m(self, selector, server_selection_timeout, address)\u001b[0m\n\u001b[0;32m    220\u001b[0m     server_timeout \u001b[39m=\u001b[39m server_selection_timeout\n\u001b[0;32m    222\u001b[0m \u001b[39mwith\u001b[39;00m \u001b[39mself\u001b[39m\u001b[39m.\u001b[39m_lock:\n\u001b[1;32m--> 223\u001b[0m     server_descriptions \u001b[39m=\u001b[39m \u001b[39mself\u001b[39;49m\u001b[39m.\u001b[39;49m_select_servers_loop(selector, server_timeout, address)\n\u001b[0;32m    225\u001b[0m     \u001b[39mreturn\u001b[39;00m [\u001b[39mself\u001b[39m\u001b[39m.\u001b[39mget_server_by_address(sd\u001b[39m.\u001b[39maddress) \u001b[39mfor\u001b[39;00m sd \u001b[39min\u001b[39;00m server_descriptions]\n",
      "File \u001b[1;32md:\\python3.10_20221013\\lib\\site-packages\\pymongo\\topology.py:238\u001b[0m, in \u001b[0;36mTopology._select_servers_loop\u001b[1;34m(self, selector, timeout, address)\u001b[0m\n\u001b[0;32m    235\u001b[0m \u001b[39mwhile\u001b[39;00m \u001b[39mnot\u001b[39;00m server_descriptions:\n\u001b[0;32m    236\u001b[0m     \u001b[39m# No suitable servers.\u001b[39;00m\n\u001b[0;32m    237\u001b[0m     \u001b[39mif\u001b[39;00m timeout \u001b[39m==\u001b[39m \u001b[39m0\u001b[39m \u001b[39mor\u001b[39;00m now \u001b[39m>\u001b[39m end_time:\n\u001b[1;32m--> 238\u001b[0m         \u001b[39mraise\u001b[39;00m ServerSelectionTimeoutError(\n\u001b[0;32m    239\u001b[0m             \u001b[39m\"\u001b[39m\u001b[39m%s\u001b[39;00m\u001b[39m, Timeout: \u001b[39m\u001b[39m%s\u001b[39;00m\u001b[39ms, Topology Description: \u001b[39m\u001b[39m%r\u001b[39;00m\u001b[39m\"\u001b[39m\n\u001b[0;32m    240\u001b[0m             \u001b[39m%\u001b[39m (\u001b[39mself\u001b[39m\u001b[39m.\u001b[39m_error_message(selector), timeout, \u001b[39mself\u001b[39m\u001b[39m.\u001b[39mdescription)\n\u001b[0;32m    241\u001b[0m         )\n\u001b[0;32m    243\u001b[0m     \u001b[39mself\u001b[39m\u001b[39m.\u001b[39m_ensure_opened()\n\u001b[0;32m    244\u001b[0m     \u001b[39mself\u001b[39m\u001b[39m.\u001b[39m_request_check_all()\n",
      "\u001b[1;31mServerSelectionTimeoutError\u001b[0m: localhost:27017: [WinError 10061] 由于目标计算机积极拒绝，无法连接。, Timeout: 30s, Topology Description: <TopologyDescription id: 638164d02308c0ec93613284, topology_type: Unknown, servers: [<ServerDescription ('localhost', 27017) server_type: Unknown, rtt: None, error=AutoReconnect('localhost:27017: [WinError 10061] 由于目标计算机积极拒绝，无法连接。')>]>"
     ]
    }
   ],
   "source": [
    "dblist = myclient.list_database_names()\n",
    "if \"mydatabase\" in dblist:\n",
    "    print(\"The database exits.\")"
   ]
  },
  {
   "cell_type": "code",
   "execution_count": 35,
   "metadata": {},
   "outputs": [
    {
     "name": "stdout",
     "output_type": "stream",
     "text": [
      "[]\n"
     ]
    }
   ],
   "source": [
    "# create a collection called \"custiomers\"\n",
    "import pymongo\n",
    "\n",
    "myclient = pymongo.MongoClient(\"mongodb://localhost:27017/\")\n",
    "mydb = myclient[\"mydatabase\"]\n",
    "mycol = mydb[\"customers\"]\n",
    "print(mydb.list_collection_names())\n",
    "\n",
    "collist = mydb.list_collection_names()\n",
    "if \"customer\" in collist:\n",
    "    print(\"The collection exists.\")"
   ]
  },
  {
   "cell_type": "code",
   "execution_count": 40,
   "metadata": {},
   "outputs": [],
   "source": [
    "mydict = {\"name\":\"John\",\"address\":\"Highway 37\"}\n",
    "x = mycol.insert_one(mydict)"
   ]
  },
  {
   "cell_type": "code",
   "execution_count": 56,
   "metadata": {},
   "outputs": [
    {
     "name": "stdout",
     "output_type": "stream",
     "text": [
      "637f615e0e93e43fbfb13374\n",
      "[ObjectId('637f615e0e93e43fbfb13375'), ObjectId('637f615e0e93e43fbfb13376'), ObjectId('637f615e0e93e43fbfb13377'), ObjectId('637f615e0e93e43fbfb13378'), ObjectId('637f615e0e93e43fbfb13379'), ObjectId('637f615e0e93e43fbfb1337a'), ObjectId('637f615e0e93e43fbfb1337b'), ObjectId('637f615e0e93e43fbfb1337c'), ObjectId('637f615e0e93e43fbfb1337d'), ObjectId('637f615e0e93e43fbfb1337e'), ObjectId('637f615e0e93e43fbfb1337f'), ObjectId('637f615e0e93e43fbfb13380')]\n"
     ]
    }
   ],
   "source": [
    "mydict = {\"name\":\"Peter\",\"address\":\"Lowstreet 27\"}\n",
    "x = mycol.insert_one(mydict)\n",
    "print(x.inserted_id)\n",
    "\n",
    "mylist = [\n",
    "    {\"name\": \"Amy\", \"address\": \"Apple st 652\"},\n",
    "    {\"name\": \"Hannah\", \"address\": \"Mountain 21\"},\n",
    "    {\"name\": \"Michael\", \"address\": \"Valley 345\"},\n",
    "    {\"name\": \"Sandy\", \"address\": \"Ocean blvd 2\"},\n",
    "    {\"name\": \"Betty\", \"address\": \"Green Grass 1\"},\n",
    "    {\"name\": \"Richard\", \"address\": \"Sky st 331\"},\n",
    "    {\"name\": \"Susan\", \"address\": \"One way 98\"},\n",
    "    {\"name\": \"Vicky\", \"address\": \"Yellow Garden 2\"},\n",
    "    {\"name\": \"Ben\", \"address\": \"Park Lane 38\"},\n",
    "    {\"name\": \"William\", \"address\": \"Central st 954\"},\n",
    "    {\"name\": \"Chuck\", \"address\": \"Main Road 989\"},\n",
    "    {\"name\": \"Viola\", \"address\": \"Sideway 1633\"}\n",
    "]\n",
    "\n",
    "x = mycol.insert_many(mylist)\n",
    "print(x.inserted_ids)\n",
    "\n"
   ]
  },
  {
   "cell_type": "code",
   "execution_count": 58,
   "metadata": {},
   "outputs": [
    {
     "ename": "BulkWriteError",
     "evalue": "batch op errors occurred, full error: {'writeErrors': [{'index': 0, 'code': 11000, 'errmsg': 'E11000 duplicate key error collection: mydatabase.customers index: _id_ dup key: { _id: 1 }', 'keyPattern': {'_id': 1}, 'keyValue': {'_id': 1}, 'op': {'_id': 1, 'name': 'John', 'address': 'Highway 37'}}], 'writeConcernErrors': [], 'nInserted': 0, 'nUpserted': 0, 'nMatched': 0, 'nModified': 0, 'nRemoved': 0, 'upserted': []}",
     "output_type": "error",
     "traceback": [
      "\u001b[1;31m---------------------------------------------------------------------------\u001b[0m",
      "\u001b[1;31mBulkWriteError\u001b[0m                            Traceback (most recent call last)",
      "Cell \u001b[1;32mIn [58], line 24\u001b[0m\n\u001b[0;32m      5\u001b[0m mycol \u001b[39m=\u001b[39m mydb[\u001b[39m\"\u001b[39m\u001b[39mcustomers\u001b[39m\u001b[39m\"\u001b[39m]\n\u001b[0;32m      7\u001b[0m mylist \u001b[39m=\u001b[39m [\n\u001b[0;32m      8\u001b[0m     {\u001b[39m\"\u001b[39m\u001b[39m_id\u001b[39m\u001b[39m\"\u001b[39m: \u001b[39m1\u001b[39m, \u001b[39m\"\u001b[39m\u001b[39mname\u001b[39m\u001b[39m\"\u001b[39m: \u001b[39m\"\u001b[39m\u001b[39mJohn\u001b[39m\u001b[39m\"\u001b[39m, \u001b[39m\"\u001b[39m\u001b[39maddress\u001b[39m\u001b[39m\"\u001b[39m: \u001b[39m\"\u001b[39m\u001b[39mHighway 37\u001b[39m\u001b[39m\"\u001b[39m},\n\u001b[0;32m      9\u001b[0m     {\u001b[39m\"\u001b[39m\u001b[39m_id\u001b[39m\u001b[39m\"\u001b[39m: \u001b[39m2\u001b[39m, \u001b[39m\"\u001b[39m\u001b[39mname\u001b[39m\u001b[39m\"\u001b[39m: \u001b[39m\"\u001b[39m\u001b[39mPeter\u001b[39m\u001b[39m\"\u001b[39m, \u001b[39m\"\u001b[39m\u001b[39maddress\u001b[39m\u001b[39m\"\u001b[39m: \u001b[39m\"\u001b[39m\u001b[39mLowstreet 27\u001b[39m\u001b[39m\"\u001b[39m},\n\u001b[1;32m   (...)\u001b[0m\n\u001b[0;32m     21\u001b[0m     {\u001b[39m\"\u001b[39m\u001b[39m_id\u001b[39m\u001b[39m\"\u001b[39m: \u001b[39m14\u001b[39m, \u001b[39m\"\u001b[39m\u001b[39mname\u001b[39m\u001b[39m\"\u001b[39m: \u001b[39m\"\u001b[39m\u001b[39mViola\u001b[39m\u001b[39m\"\u001b[39m, \u001b[39m\"\u001b[39m\u001b[39maddress\u001b[39m\u001b[39m\"\u001b[39m: \u001b[39m\"\u001b[39m\u001b[39mSideway 1633\u001b[39m\u001b[39m\"\u001b[39m}\n\u001b[0;32m     22\u001b[0m ]\n\u001b[1;32m---> 24\u001b[0m x \u001b[39m=\u001b[39m mycol\u001b[39m.\u001b[39;49minsert_many(mylist)\n\u001b[0;32m     26\u001b[0m \u001b[39m#print list of the _id values of the inserted documents:\u001b[39;00m\n\u001b[0;32m     27\u001b[0m \u001b[39mprint\u001b[39m(x\u001b[39m.\u001b[39minserted_ids)\n",
      "File \u001b[1;32md:\\python3.10_20221013\\lib\\site-packages\\pymongo\\_csot.py:105\u001b[0m, in \u001b[0;36mapply.<locals>.csot_wrapper\u001b[1;34m(self, *args, **kwargs)\u001b[0m\n\u001b[0;32m    103\u001b[0m         \u001b[39mwith\u001b[39;00m _TimeoutContext(timeout):\n\u001b[0;32m    104\u001b[0m             \u001b[39mreturn\u001b[39;00m func(\u001b[39mself\u001b[39m, \u001b[39m*\u001b[39margs, \u001b[39m*\u001b[39m\u001b[39m*\u001b[39mkwargs)\n\u001b[1;32m--> 105\u001b[0m \u001b[39mreturn\u001b[39;00m func(\u001b[39mself\u001b[39m, \u001b[39m*\u001b[39margs, \u001b[39m*\u001b[39m\u001b[39m*\u001b[39mkwargs)\n",
      "File \u001b[1;32md:\\python3.10_20221013\\lib\\site-packages\\pymongo\\collection.py:714\u001b[0m, in \u001b[0;36mCollection.insert_many\u001b[1;34m(self, documents, ordered, bypass_document_validation, session, comment)\u001b[0m\n\u001b[0;32m    712\u001b[0m blk \u001b[39m=\u001b[39m _Bulk(\u001b[39mself\u001b[39m, ordered, bypass_document_validation, comment\u001b[39m=\u001b[39mcomment)\n\u001b[0;32m    713\u001b[0m blk\u001b[39m.\u001b[39mops \u001b[39m=\u001b[39m [doc \u001b[39mfor\u001b[39;00m doc \u001b[39min\u001b[39;00m gen()]\n\u001b[1;32m--> 714\u001b[0m blk\u001b[39m.\u001b[39;49mexecute(write_concern, session\u001b[39m=\u001b[39;49msession)\n\u001b[0;32m    715\u001b[0m \u001b[39mreturn\u001b[39;00m InsertManyResult(inserted_ids, write_concern\u001b[39m.\u001b[39macknowledged)\n",
      "File \u001b[1;32md:\\python3.10_20221013\\lib\\site-packages\\pymongo\\bulk.py:513\u001b[0m, in \u001b[0;36m_Bulk.execute\u001b[1;34m(self, write_concern, session)\u001b[0m\n\u001b[0;32m    511\u001b[0m         \u001b[39mself\u001b[39m\u001b[39m.\u001b[39mexecute_no_results(sock_info, generator, write_concern)\n\u001b[0;32m    512\u001b[0m \u001b[39melse\u001b[39;00m:\n\u001b[1;32m--> 513\u001b[0m     \u001b[39mreturn\u001b[39;00m \u001b[39mself\u001b[39;49m\u001b[39m.\u001b[39;49mexecute_command(generator, write_concern, session)\n",
      "File \u001b[1;32md:\\python3.10_20221013\\lib\\site-packages\\pymongo\\bulk.py:394\u001b[0m, in \u001b[0;36m_Bulk.execute_command\u001b[1;34m(self, generator, write_concern, session)\u001b[0m\n\u001b[0;32m    391\u001b[0m     client\u001b[39m.\u001b[39m_retry_with_session(\u001b[39mself\u001b[39m\u001b[39m.\u001b[39mis_retryable, retryable_bulk, s, \u001b[39mself\u001b[39m)\n\u001b[0;32m    393\u001b[0m \u001b[39mif\u001b[39;00m full_result[\u001b[39m\"\u001b[39m\u001b[39mwriteErrors\u001b[39m\u001b[39m\"\u001b[39m] \u001b[39mor\u001b[39;00m full_result[\u001b[39m\"\u001b[39m\u001b[39mwriteConcernErrors\u001b[39m\u001b[39m\"\u001b[39m]:\n\u001b[1;32m--> 394\u001b[0m     _raise_bulk_write_error(full_result)\n\u001b[0;32m    395\u001b[0m \u001b[39mreturn\u001b[39;00m full_result\n",
      "File \u001b[1;32md:\\python3.10_20221013\\lib\\site-packages\\pymongo\\bulk.py:136\u001b[0m, in \u001b[0;36m_raise_bulk_write_error\u001b[1;34m(full_result)\u001b[0m\n\u001b[0;32m    134\u001b[0m \u001b[39mif\u001b[39;00m full_result[\u001b[39m\"\u001b[39m\u001b[39mwriteErrors\u001b[39m\u001b[39m\"\u001b[39m]:\n\u001b[0;32m    135\u001b[0m     full_result[\u001b[39m\"\u001b[39m\u001b[39mwriteErrors\u001b[39m\u001b[39m\"\u001b[39m]\u001b[39m.\u001b[39msort(key\u001b[39m=\u001b[39m\u001b[39mlambda\u001b[39;00m error: error[\u001b[39m\"\u001b[39m\u001b[39mindex\u001b[39m\u001b[39m\"\u001b[39m])\n\u001b[1;32m--> 136\u001b[0m \u001b[39mraise\u001b[39;00m BulkWriteError(full_result)\n",
      "\u001b[1;31mBulkWriteError\u001b[0m: batch op errors occurred, full error: {'writeErrors': [{'index': 0, 'code': 11000, 'errmsg': 'E11000 duplicate key error collection: mydatabase.customers index: _id_ dup key: { _id: 1 }', 'keyPattern': {'_id': 1}, 'keyValue': {'_id': 1}, 'op': {'_id': 1, 'name': 'John', 'address': 'Highway 37'}}], 'writeConcernErrors': [], 'nInserted': 0, 'nUpserted': 0, 'nMatched': 0, 'nModified': 0, 'nRemoved': 0, 'upserted': []}"
     ]
    }
   ],
   "source": [
    "import pymongo\n",
    "\n",
    "myclient = pymongo.MongoClient(\"mongodb://localhost:27017/\")\n",
    "mydb = myclient[\"mydatabase\"]\n",
    "mycol = mydb[\"customers\"]\n",
    "\n",
    "mylist = [\n",
    "    {\"_id\": 1, \"name\": \"John\", \"address\": \"Highway 37\"},\n",
    "    {\"_id\": 2, \"name\": \"Peter\", \"address\": \"Lowstreet 27\"},\n",
    "    {\"_id\": 3, \"name\": \"Amy\", \"address\": \"Apple st 652\"},\n",
    "    {\"_id\": 4, \"name\": \"Hannah\", \"address\": \"Mountain 21\"},\n",
    "    {\"_id\": 5, \"name\": \"Michael\", \"address\": \"Valley 345\"},\n",
    "    {\"_id\": 6, \"name\": \"Sandy\", \"address\": \"Ocean blvd 2\"},\n",
    "    {\"_id\": 7, \"name\": \"Betty\", \"address\": \"Green Grass 1\"},\n",
    "    {\"_id\": 8, \"name\": \"Richard\", \"address\": \"Sky st 331\"},\n",
    "    {\"_id\": 9, \"name\": \"Susan\", \"address\": \"One way 98\"},\n",
    "    {\"_id\": 10, \"name\": \"Vicky\", \"address\": \"Yellow Garden 2\"},\n",
    "    {\"_id\": 11, \"name\": \"Ben\", \"address\": \"Park Lane 38\"},\n",
    "    {\"_id\": 12, \"name\": \"William\", \"address\": \"Central st 954\"},\n",
    "    {\"_id\": 13, \"name\": \"Chuck\", \"address\": \"Main Road 989\"},\n",
    "    {\"_id\": 14, \"name\": \"Viola\", \"address\": \"Sideway 1633\"}\n",
    "]\n",
    "\n",
    "x = mycol.insert_many(mylist)\n",
    "\n",
    "#print list of the _id values of the inserted documents:\n",
    "print(x.inserted_ids)\n"
   ]
  },
  {
   "cell_type": "code",
   "execution_count": 69,
   "metadata": {},
   "outputs": [
    {
     "name": "stdout",
     "output_type": "stream",
     "text": [
      "{'_id': ObjectId('637f5f570e93e43fbfb13345'), 'name': 'John', 'address': 'Highway 37'}\n",
      "{'_id': ObjectId('637f5f570e93e43fbfb13345'), 'name': 'John', 'address': 'Highway 37'}\n",
      "{'_id': ObjectId('637f5f5a0e93e43fbfb13346'), 'name': 'John', 'address': 'Highway 37'}\n",
      "{'_id': ObjectId('637f5f6f0e93e43fbfb13347'), 'name': 'John', 'address': 'Highway 37'}\n",
      "{'_id': ObjectId('637f5f700e93e43fbfb13348'), 'name': 'John', 'address': 'Highway 37'}\n",
      "{'_id': ObjectId('637f5fcc0e93e43fbfb13349'), 'name': 'Peter', 'address': 'Lowstreet 27'}\n",
      "{'_id': ObjectId('637f5fcd0e93e43fbfb1334a'), 'name': 'Peter', 'address': 'Lowstreet 27'}\n",
      "{'_id': ObjectId('637f60090e93e43fbfb1334b'), 'name': 'Peter', 'address': 'Lowstreet 27'}\n",
      "{'_id': ObjectId('637f60090e93e43fbfb1334c'), 'name': 'Amy', 'address': 'Apple st 652'}\n",
      "{'_id': ObjectId('637f60090e93e43fbfb1334d'), 'name': 'Hannah', 'address': 'Mountain 21'}\n",
      "{'_id': ObjectId('637f60090e93e43fbfb1334e'), 'name': 'Michael', 'address': 'Valley 345'}\n",
      "{'_id': ObjectId('637f60090e93e43fbfb1334f'), 'name': 'Sandy', 'address': 'Ocean blvd 2'}\n",
      "{'_id': ObjectId('637f60090e93e43fbfb13350'), 'name': 'Betty', 'address': 'Green Grass 1'}\n",
      "{'_id': ObjectId('637f60090e93e43fbfb13351'), 'name': 'Richard', 'address': 'Sky st 331'}\n",
      "{'_id': ObjectId('637f60090e93e43fbfb13352'), 'name': 'Susan', 'address': 'One way 98'}\n",
      "{'_id': ObjectId('637f60090e93e43fbfb13353'), 'name': 'Vicky', 'address': 'Yellow Garden 2'}\n",
      "{'_id': ObjectId('637f60090e93e43fbfb13354'), 'name': 'Ben', 'address': 'Park Lane 38'}\n",
      "{'_id': ObjectId('637f60090e93e43fbfb13355'), 'name': 'William', 'address': 'Central st 954'}\n",
      "{'_id': ObjectId('637f60090e93e43fbfb13356'), 'name': 'Chuck', 'address': 'Main Road 989'}\n",
      "{'_id': ObjectId('637f60090e93e43fbfb13357'), 'name': 'Viola', 'address': 'Sideway 1633'}\n",
      "{'_id': ObjectId('637f60a60e93e43fbfb13358'), 'name': 'Peter', 'address': 'Lowstreet 27'}\n",
      "{'_id': ObjectId('637f60a60e93e43fbfb13359'), 'name': 'Amy', 'address': 'Apple st 652'}\n",
      "{'_id': ObjectId('637f60a60e93e43fbfb1335a'), 'name': 'Hannah', 'address': 'Mountain 21'}\n",
      "{'_id': ObjectId('637f60a60e93e43fbfb1335b'), 'name': 'Michael', 'address': 'Valley 345'}\n",
      "{'_id': ObjectId('637f60a60e93e43fbfb1335c'), 'name': 'Sandy', 'address': 'Ocean blvd 2'}\n",
      "{'_id': ObjectId('637f60a60e93e43fbfb1335d'), 'name': 'Betty', 'address': 'Green Grass 1'}\n",
      "{'_id': ObjectId('637f60a60e93e43fbfb1335e'), 'name': 'Richard', 'address': 'Sky st 331'}\n",
      "{'_id': ObjectId('637f60a60e93e43fbfb1335f'), 'name': 'Susan', 'address': 'One way 98'}\n",
      "{'_id': ObjectId('637f60a60e93e43fbfb13360'), 'name': 'Vicky', 'address': 'Yellow Garden 2'}\n",
      "{'_id': ObjectId('637f60a60e93e43fbfb13361'), 'name': 'Ben', 'address': 'Park Lane 38'}\n",
      "{'_id': ObjectId('637f60a60e93e43fbfb13362'), 'name': 'William', 'address': 'Central st 954'}\n",
      "{'_id': ObjectId('637f60a60e93e43fbfb13363'), 'name': 'Chuck', 'address': 'Main Road 989'}\n",
      "{'_id': ObjectId('637f60a60e93e43fbfb13364'), 'name': 'Viola', 'address': 'Sideway 1633'}\n",
      "{'_id': 1, 'name': 'John', 'address': 'Highway 37'}\n",
      "{'_id': 2, 'name': 'Peter', 'address': 'Lowstreet 27'}\n",
      "{'_id': 3, 'name': 'Amy', 'address': 'Apple st 652'}\n",
      "{'_id': 4, 'name': 'Hannah', 'address': 'Mountain 21'}\n",
      "{'_id': 5, 'name': 'Michael', 'address': 'Valley 345'}\n",
      "{'_id': 6, 'name': 'Sandy', 'address': 'Ocean blvd 2'}\n",
      "{'_id': 7, 'name': 'Betty', 'address': 'Green Grass 1'}\n",
      "{'_id': 8, 'name': 'Richard', 'address': 'Sky st 331'}\n",
      "{'_id': 9, 'name': 'Susan', 'address': 'One way 98'}\n",
      "{'_id': 10, 'name': 'Vicky', 'address': 'Yellow Garden 2'}\n",
      "{'_id': 11, 'name': 'Ben', 'address': 'Park Lane 38'}\n",
      "{'_id': 12, 'name': 'William', 'address': 'Central st 954'}\n",
      "{'_id': 13, 'name': 'Chuck', 'address': 'Main Road 989'}\n",
      "{'_id': 14, 'name': 'Viola', 'address': 'Sideway 1633'}\n",
      "{'_id': ObjectId('637f60dc0e93e43fbfb13365'), 'name': 'Peter', 'address': 'Lowstreet 27'}\n",
      "{'_id': ObjectId('637f60dc0e93e43fbfb13366'), 'name': 'Amy', 'address': 'Apple st 652'}\n",
      "{'_id': ObjectId('637f60dc0e93e43fbfb13367'), 'name': 'Hannah', 'address': 'Mountain 21'}\n",
      "{'_id': ObjectId('637f60dc0e93e43fbfb13368'), 'name': 'Michael', 'address': 'Valley 345'}\n",
      "{'_id': ObjectId('637f60dc0e93e43fbfb13369'), 'name': 'Sandy', 'address': 'Ocean blvd 2'}\n",
      "{'_id': ObjectId('637f60dc0e93e43fbfb1336a'), 'name': 'Betty', 'address': 'Green Grass 1'}\n",
      "{'_id': ObjectId('637f60dc0e93e43fbfb1336b'), 'name': 'Richard', 'address': 'Sky st 331'}\n",
      "{'_id': ObjectId('637f60dc0e93e43fbfb1336c'), 'name': 'Susan', 'address': 'One way 98'}\n",
      "{'_id': ObjectId('637f60dc0e93e43fbfb1336d'), 'name': 'Vicky', 'address': 'Yellow Garden 2'}\n",
      "{'_id': ObjectId('637f60dc0e93e43fbfb1336e'), 'name': 'Ben', 'address': 'Park Lane 38'}\n",
      "{'_id': ObjectId('637f60dc0e93e43fbfb1336f'), 'name': 'William', 'address': 'Central st 954'}\n",
      "{'_id': ObjectId('637f60dc0e93e43fbfb13370'), 'name': 'Chuck', 'address': 'Main Road 989'}\n",
      "{'_id': ObjectId('637f60dc0e93e43fbfb13371'), 'name': 'Viola', 'address': 'Sideway 1633'}\n",
      "{'_id': ObjectId('637f615e0e93e43fbfb13374'), 'name': 'Peter', 'address': 'Lowstreet 27'}\n",
      "{'_id': ObjectId('637f615e0e93e43fbfb13375'), 'name': 'Amy', 'address': 'Apple st 652'}\n",
      "{'_id': ObjectId('637f615e0e93e43fbfb13376'), 'name': 'Hannah', 'address': 'Mountain 21'}\n",
      "{'_id': ObjectId('637f615e0e93e43fbfb13377'), 'name': 'Michael', 'address': 'Valley 345'}\n",
      "{'_id': ObjectId('637f615e0e93e43fbfb13378'), 'name': 'Sandy', 'address': 'Ocean blvd 2'}\n",
      "{'_id': ObjectId('637f615e0e93e43fbfb13379'), 'name': 'Betty', 'address': 'Green Grass 1'}\n",
      "{'_id': ObjectId('637f615e0e93e43fbfb1337a'), 'name': 'Richard', 'address': 'Sky st 331'}\n",
      "{'_id': ObjectId('637f615e0e93e43fbfb1337b'), 'name': 'Susan', 'address': 'One way 98'}\n",
      "{'_id': ObjectId('637f615e0e93e43fbfb1337c'), 'name': 'Vicky', 'address': 'Yellow Garden 2'}\n",
      "{'_id': ObjectId('637f615e0e93e43fbfb1337d'), 'name': 'Ben', 'address': 'Park Lane 38'}\n",
      "{'_id': ObjectId('637f615e0e93e43fbfb1337e'), 'name': 'William', 'address': 'Central st 954'}\n",
      "{'_id': ObjectId('637f615e0e93e43fbfb1337f'), 'name': 'Chuck', 'address': 'Main Road 989'}\n",
      "{'_id': ObjectId('637f615e0e93e43fbfb13380'), 'name': 'Viola', 'address': 'Sideway 1633'}\n"
     ]
    }
   ],
   "source": [
    "myclient = pymongo.MongoClient(\"mongodb://localhost:27017/\")\n",
    "mydb = myclient[\"mydatabase\"]\n",
    "mycol = mydb[\"customers\"]\n",
    "\n",
    "x = mycol.find_one()\n",
    "print(x)\n",
    "\n",
    "#find all\n",
    "for i in mycol.find():\n",
    "    print(i)"
   ]
  },
  {
   "cell_type": "code",
   "execution_count": 72,
   "metadata": {},
   "outputs": [
    {
     "name": "stdout",
     "output_type": "stream",
     "text": [
      "{'_id': ObjectId('637f5f570e93e43fbfb13345'), 'name': 'John'}\n",
      "{'_id': ObjectId('637f5f5a0e93e43fbfb13346'), 'name': 'John'}\n",
      "{'_id': ObjectId('637f5f6f0e93e43fbfb13347'), 'name': 'John'}\n",
      "{'_id': ObjectId('637f5f700e93e43fbfb13348'), 'name': 'John'}\n",
      "{'_id': ObjectId('637f5fcc0e93e43fbfb13349'), 'name': 'Peter'}\n",
      "{'_id': ObjectId('637f5fcd0e93e43fbfb1334a'), 'name': 'Peter'}\n",
      "{'_id': ObjectId('637f60090e93e43fbfb1334b'), 'name': 'Peter'}\n",
      "{'_id': ObjectId('637f60090e93e43fbfb1334c'), 'name': 'Amy'}\n",
      "{'_id': ObjectId('637f60090e93e43fbfb1334d'), 'name': 'Hannah'}\n",
      "{'_id': ObjectId('637f60090e93e43fbfb1334e'), 'name': 'Michael'}\n",
      "{'_id': ObjectId('637f60090e93e43fbfb1334f'), 'name': 'Sandy'}\n",
      "{'_id': ObjectId('637f60090e93e43fbfb13350'), 'name': 'Betty'}\n",
      "{'_id': ObjectId('637f60090e93e43fbfb13351'), 'name': 'Richard'}\n",
      "{'_id': ObjectId('637f60090e93e43fbfb13352'), 'name': 'Susan'}\n",
      "{'_id': ObjectId('637f60090e93e43fbfb13353'), 'name': 'Vicky'}\n",
      "{'_id': ObjectId('637f60090e93e43fbfb13354'), 'name': 'Ben'}\n",
      "{'_id': ObjectId('637f60090e93e43fbfb13355'), 'name': 'William'}\n",
      "{'_id': ObjectId('637f60090e93e43fbfb13356'), 'name': 'Chuck'}\n",
      "{'_id': ObjectId('637f60090e93e43fbfb13357'), 'name': 'Viola'}\n",
      "{'_id': ObjectId('637f60a60e93e43fbfb13358'), 'name': 'Peter'}\n",
      "{'_id': ObjectId('637f60a60e93e43fbfb13359'), 'name': 'Amy'}\n",
      "{'_id': ObjectId('637f60a60e93e43fbfb1335a'), 'name': 'Hannah'}\n",
      "{'_id': ObjectId('637f60a60e93e43fbfb1335b'), 'name': 'Michael'}\n",
      "{'_id': ObjectId('637f60a60e93e43fbfb1335c'), 'name': 'Sandy'}\n",
      "{'_id': ObjectId('637f60a60e93e43fbfb1335d'), 'name': 'Betty'}\n",
      "{'_id': ObjectId('637f60a60e93e43fbfb1335e'), 'name': 'Richard'}\n",
      "{'_id': ObjectId('637f60a60e93e43fbfb1335f'), 'name': 'Susan'}\n",
      "{'_id': ObjectId('637f60a60e93e43fbfb13360'), 'name': 'Vicky'}\n",
      "{'_id': ObjectId('637f60a60e93e43fbfb13361'), 'name': 'Ben'}\n",
      "{'_id': ObjectId('637f60a60e93e43fbfb13362'), 'name': 'William'}\n",
      "{'_id': ObjectId('637f60a60e93e43fbfb13363'), 'name': 'Chuck'}\n",
      "{'_id': ObjectId('637f60a60e93e43fbfb13364'), 'name': 'Viola'}\n",
      "{'_id': 1, 'name': 'John'}\n",
      "{'_id': 2, 'name': 'Peter'}\n",
      "{'_id': 3, 'name': 'Amy'}\n",
      "{'_id': 4, 'name': 'Hannah'}\n",
      "{'_id': 5, 'name': 'Michael'}\n",
      "{'_id': 6, 'name': 'Sandy'}\n",
      "{'_id': 7, 'name': 'Betty'}\n",
      "{'_id': 8, 'name': 'Richard'}\n",
      "{'_id': 9, 'name': 'Susan'}\n",
      "{'_id': 10, 'name': 'Vicky'}\n",
      "{'_id': 11, 'name': 'Ben'}\n",
      "{'_id': 12, 'name': 'William'}\n",
      "{'_id': 13, 'name': 'Chuck'}\n",
      "{'_id': 14, 'name': 'Viola'}\n",
      "{'_id': ObjectId('637f60dc0e93e43fbfb13365'), 'name': 'Peter'}\n",
      "{'_id': ObjectId('637f60dc0e93e43fbfb13366'), 'name': 'Amy'}\n",
      "{'_id': ObjectId('637f60dc0e93e43fbfb13367'), 'name': 'Hannah'}\n",
      "{'_id': ObjectId('637f60dc0e93e43fbfb13368'), 'name': 'Michael'}\n",
      "{'_id': ObjectId('637f60dc0e93e43fbfb13369'), 'name': 'Sandy'}\n",
      "{'_id': ObjectId('637f60dc0e93e43fbfb1336a'), 'name': 'Betty'}\n",
      "{'_id': ObjectId('637f60dc0e93e43fbfb1336b'), 'name': 'Richard'}\n",
      "{'_id': ObjectId('637f60dc0e93e43fbfb1336c'), 'name': 'Susan'}\n",
      "{'_id': ObjectId('637f60dc0e93e43fbfb1336d'), 'name': 'Vicky'}\n",
      "{'_id': ObjectId('637f60dc0e93e43fbfb1336e'), 'name': 'Ben'}\n",
      "{'_id': ObjectId('637f60dc0e93e43fbfb1336f'), 'name': 'William'}\n",
      "{'_id': ObjectId('637f60dc0e93e43fbfb13370'), 'name': 'Chuck'}\n",
      "{'_id': ObjectId('637f60dc0e93e43fbfb13371'), 'name': 'Viola'}\n",
      "{'_id': ObjectId('637f615e0e93e43fbfb13374'), 'name': 'Peter'}\n",
      "{'_id': ObjectId('637f615e0e93e43fbfb13375'), 'name': 'Amy'}\n",
      "{'_id': ObjectId('637f615e0e93e43fbfb13376'), 'name': 'Hannah'}\n",
      "{'_id': ObjectId('637f615e0e93e43fbfb13377'), 'name': 'Michael'}\n",
      "{'_id': ObjectId('637f615e0e93e43fbfb13378'), 'name': 'Sandy'}\n",
      "{'_id': ObjectId('637f615e0e93e43fbfb13379'), 'name': 'Betty'}\n",
      "{'_id': ObjectId('637f615e0e93e43fbfb1337a'), 'name': 'Richard'}\n",
      "{'_id': ObjectId('637f615e0e93e43fbfb1337b'), 'name': 'Susan'}\n",
      "{'_id': ObjectId('637f615e0e93e43fbfb1337c'), 'name': 'Vicky'}\n",
      "{'_id': ObjectId('637f615e0e93e43fbfb1337d'), 'name': 'Ben'}\n",
      "{'_id': ObjectId('637f615e0e93e43fbfb1337e'), 'name': 'William'}\n",
      "{'_id': ObjectId('637f615e0e93e43fbfb1337f'), 'name': 'Chuck'}\n",
      "{'_id': ObjectId('637f615e0e93e43fbfb13380'), 'name': 'Viola'}\n"
     ]
    }
   ],
   "source": [
    "#find definite one\n",
    "for x in mycol.find({},{\"address\":0}):\n",
    "    print(x)"
   ]
  },
  {
   "cell_type": "code",
   "execution_count": 77,
   "metadata": {},
   "outputs": [
    {
     "name": "stdout",
     "output_type": "stream",
     "text": [
      "{'_id': ObjectId('637f60090e93e43fbfb13354'), 'name': 'Ben', 'address': 'Park Lane 38'}\n",
      "{'_id': ObjectId('637f60a60e93e43fbfb13361'), 'name': 'Ben', 'address': 'Park Lane 38'}\n",
      "{'_id': 11, 'name': 'Ben', 'address': 'Park Lane 38'}\n",
      "{'_id': ObjectId('637f60dc0e93e43fbfb1336e'), 'name': 'Ben', 'address': 'Park Lane 38'}\n",
      "{'_id': ObjectId('637f615e0e93e43fbfb1337d'), 'name': 'Ben', 'address': 'Park Lane 38'}\n",
      "{'_id': ObjectId('637f60090e93e43fbfb1334e'), 'name': 'Michael', 'address': 'Valley 345'}\n",
      "{'_id': ObjectId('637f60090e93e43fbfb13351'), 'name': 'Richard', 'address': 'Sky st 331'}\n",
      "{'_id': ObjectId('637f60090e93e43fbfb13353'), 'name': 'Vicky', 'address': 'Yellow Garden 2'}\n",
      "{'_id': ObjectId('637f60090e93e43fbfb13357'), 'name': 'Viola', 'address': 'Sideway 1633'}\n",
      "{'_id': ObjectId('637f60a60e93e43fbfb1335b'), 'name': 'Michael', 'address': 'Valley 345'}\n",
      "{'_id': ObjectId('637f60a60e93e43fbfb1335e'), 'name': 'Richard', 'address': 'Sky st 331'}\n",
      "{'_id': ObjectId('637f60a60e93e43fbfb13360'), 'name': 'Vicky', 'address': 'Yellow Garden 2'}\n",
      "{'_id': ObjectId('637f60a60e93e43fbfb13364'), 'name': 'Viola', 'address': 'Sideway 1633'}\n",
      "{'_id': 5, 'name': 'Michael', 'address': 'Valley 345'}\n",
      "{'_id': 8, 'name': 'Richard', 'address': 'Sky st 331'}\n",
      "{'_id': 10, 'name': 'Vicky', 'address': 'Yellow Garden 2'}\n",
      "{'_id': 14, 'name': 'Viola', 'address': 'Sideway 1633'}\n",
      "{'_id': ObjectId('637f60dc0e93e43fbfb13368'), 'name': 'Michael', 'address': 'Valley 345'}\n",
      "{'_id': ObjectId('637f60dc0e93e43fbfb1336b'), 'name': 'Richard', 'address': 'Sky st 331'}\n",
      "{'_id': ObjectId('637f60dc0e93e43fbfb1336d'), 'name': 'Vicky', 'address': 'Yellow Garden 2'}\n",
      "{'_id': ObjectId('637f60dc0e93e43fbfb13371'), 'name': 'Viola', 'address': 'Sideway 1633'}\n",
      "{'_id': ObjectId('637f615e0e93e43fbfb13377'), 'name': 'Michael', 'address': 'Valley 345'}\n",
      "{'_id': ObjectId('637f615e0e93e43fbfb1337a'), 'name': 'Richard', 'address': 'Sky st 331'}\n",
      "{'_id': ObjectId('637f615e0e93e43fbfb1337c'), 'name': 'Vicky', 'address': 'Yellow Garden 2'}\n",
      "{'_id': ObjectId('637f615e0e93e43fbfb13380'), 'name': 'Viola', 'address': 'Sideway 1633'}\n"
     ]
    }
   ],
   "source": [
    "myquery = {\"address\":\"Park Lane 38\"}\n",
    "\n",
    "mydoc = mycol.find(myquery)\n",
    "for x in  mydoc:\n",
    "    print(x)\n",
    "\n",
    "myquery = {\"address\":{\"$gt\":\"S\"}}\n",
    "mydoc = mycol.find(myquery)\n",
    "for x in mydoc:\n",
    "    print(x)"
   ]
  },
  {
   "cell_type": "code",
   "execution_count": 79,
   "metadata": {},
   "outputs": [
    {
     "name": "stdout",
     "output_type": "stream",
     "text": [
      "{'_id': ObjectId('637f60090e93e43fbfb13351'), 'name': 'Richard', 'address': 'Sky st 331'}\n",
      "{'_id': ObjectId('637f60090e93e43fbfb13357'), 'name': 'Viola', 'address': 'Sideway 1633'}\n",
      "{'_id': ObjectId('637f60a60e93e43fbfb1335e'), 'name': 'Richard', 'address': 'Sky st 331'}\n",
      "{'_id': ObjectId('637f60a60e93e43fbfb13364'), 'name': 'Viola', 'address': 'Sideway 1633'}\n",
      "{'_id': 8, 'name': 'Richard', 'address': 'Sky st 331'}\n",
      "{'_id': 14, 'name': 'Viola', 'address': 'Sideway 1633'}\n",
      "{'_id': ObjectId('637f60dc0e93e43fbfb1336b'), 'name': 'Richard', 'address': 'Sky st 331'}\n",
      "{'_id': ObjectId('637f60dc0e93e43fbfb13371'), 'name': 'Viola', 'address': 'Sideway 1633'}\n",
      "{'_id': ObjectId('637f615e0e93e43fbfb1337a'), 'name': 'Richard', 'address': 'Sky st 331'}\n",
      "{'_id': ObjectId('637f615e0e93e43fbfb13380'), 'name': 'Viola', 'address': 'Sideway 1633'}\n"
     ]
    }
   ],
   "source": [
    "myquery = {\"address\":{\"$regex\":\"^S\"}}\n",
    "mydoc = mycol.find(myquery)\n",
    "for x in mydoc:\n",
    "    print(x)"
   ]
  },
  {
   "cell_type": "code",
   "execution_count": 81,
   "metadata": {},
   "outputs": [
    {
     "name": "stdout",
     "output_type": "stream",
     "text": [
      "{'_id': ObjectId('637f60090e93e43fbfb1334c'), 'name': 'Amy', 'address': 'Apple st 652'}\n",
      "{'_id': ObjectId('637f60a60e93e43fbfb13359'), 'name': 'Amy', 'address': 'Apple st 652'}\n",
      "{'_id': 3, 'name': 'Amy', 'address': 'Apple st 652'}\n",
      "{'_id': ObjectId('637f60dc0e93e43fbfb13366'), 'name': 'Amy', 'address': 'Apple st 652'}\n",
      "{'_id': ObjectId('637f615e0e93e43fbfb13375'), 'name': 'Amy', 'address': 'Apple st 652'}\n",
      "{'_id': ObjectId('637f60090e93e43fbfb13354'), 'name': 'Ben', 'address': 'Park Lane 38'}\n",
      "{'_id': ObjectId('637f60a60e93e43fbfb13361'), 'name': 'Ben', 'address': 'Park Lane 38'}\n",
      "{'_id': 11, 'name': 'Ben', 'address': 'Park Lane 38'}\n",
      "{'_id': ObjectId('637f60dc0e93e43fbfb1336e'), 'name': 'Ben', 'address': 'Park Lane 38'}\n",
      "{'_id': ObjectId('637f615e0e93e43fbfb1337d'), 'name': 'Ben', 'address': 'Park Lane 38'}\n",
      "{'_id': ObjectId('637f60090e93e43fbfb13350'), 'name': 'Betty', 'address': 'Green Grass 1'}\n",
      "{'_id': ObjectId('637f60a60e93e43fbfb1335d'), 'name': 'Betty', 'address': 'Green Grass 1'}\n",
      "{'_id': 7, 'name': 'Betty', 'address': 'Green Grass 1'}\n",
      "{'_id': ObjectId('637f60dc0e93e43fbfb1336a'), 'name': 'Betty', 'address': 'Green Grass 1'}\n",
      "{'_id': ObjectId('637f615e0e93e43fbfb13379'), 'name': 'Betty', 'address': 'Green Grass 1'}\n",
      "{'_id': ObjectId('637f60090e93e43fbfb13356'), 'name': 'Chuck', 'address': 'Main Road 989'}\n",
      "{'_id': ObjectId('637f60a60e93e43fbfb13363'), 'name': 'Chuck', 'address': 'Main Road 989'}\n",
      "{'_id': 13, 'name': 'Chuck', 'address': 'Main Road 989'}\n",
      "{'_id': ObjectId('637f60dc0e93e43fbfb13370'), 'name': 'Chuck', 'address': 'Main Road 989'}\n",
      "{'_id': ObjectId('637f615e0e93e43fbfb1337f'), 'name': 'Chuck', 'address': 'Main Road 989'}\n",
      "{'_id': ObjectId('637f60090e93e43fbfb1334d'), 'name': 'Hannah', 'address': 'Mountain 21'}\n",
      "{'_id': ObjectId('637f60a60e93e43fbfb1335a'), 'name': 'Hannah', 'address': 'Mountain 21'}\n",
      "{'_id': 4, 'name': 'Hannah', 'address': 'Mountain 21'}\n",
      "{'_id': ObjectId('637f60dc0e93e43fbfb13367'), 'name': 'Hannah', 'address': 'Mountain 21'}\n",
      "{'_id': ObjectId('637f615e0e93e43fbfb13376'), 'name': 'Hannah', 'address': 'Mountain 21'}\n",
      "{'_id': ObjectId('637f5f570e93e43fbfb13345'), 'name': 'John', 'address': 'Highway 37'}\n",
      "{'_id': ObjectId('637f5f5a0e93e43fbfb13346'), 'name': 'John', 'address': 'Highway 37'}\n",
      "{'_id': ObjectId('637f5f6f0e93e43fbfb13347'), 'name': 'John', 'address': 'Highway 37'}\n",
      "{'_id': ObjectId('637f5f700e93e43fbfb13348'), 'name': 'John', 'address': 'Highway 37'}\n",
      "{'_id': 1, 'name': 'John', 'address': 'Highway 37'}\n",
      "{'_id': ObjectId('637f60090e93e43fbfb1334e'), 'name': 'Michael', 'address': 'Valley 345'}\n",
      "{'_id': ObjectId('637f60a60e93e43fbfb1335b'), 'name': 'Michael', 'address': 'Valley 345'}\n",
      "{'_id': 5, 'name': 'Michael', 'address': 'Valley 345'}\n",
      "{'_id': ObjectId('637f60dc0e93e43fbfb13368'), 'name': 'Michael', 'address': 'Valley 345'}\n",
      "{'_id': ObjectId('637f615e0e93e43fbfb13377'), 'name': 'Michael', 'address': 'Valley 345'}\n",
      "{'_id': ObjectId('637f5fcc0e93e43fbfb13349'), 'name': 'Peter', 'address': 'Lowstreet 27'}\n",
      "{'_id': ObjectId('637f5fcd0e93e43fbfb1334a'), 'name': 'Peter', 'address': 'Lowstreet 27'}\n",
      "{'_id': ObjectId('637f60090e93e43fbfb1334b'), 'name': 'Peter', 'address': 'Lowstreet 27'}\n",
      "{'_id': ObjectId('637f60a60e93e43fbfb13358'), 'name': 'Peter', 'address': 'Lowstreet 27'}\n",
      "{'_id': 2, 'name': 'Peter', 'address': 'Lowstreet 27'}\n",
      "{'_id': ObjectId('637f60dc0e93e43fbfb13365'), 'name': 'Peter', 'address': 'Lowstreet 27'}\n",
      "{'_id': ObjectId('637f615e0e93e43fbfb13374'), 'name': 'Peter', 'address': 'Lowstreet 27'}\n",
      "{'_id': ObjectId('637f60090e93e43fbfb13351'), 'name': 'Richard', 'address': 'Sky st 331'}\n",
      "{'_id': ObjectId('637f60a60e93e43fbfb1335e'), 'name': 'Richard', 'address': 'Sky st 331'}\n",
      "{'_id': 8, 'name': 'Richard', 'address': 'Sky st 331'}\n",
      "{'_id': ObjectId('637f60dc0e93e43fbfb1336b'), 'name': 'Richard', 'address': 'Sky st 331'}\n",
      "{'_id': ObjectId('637f615e0e93e43fbfb1337a'), 'name': 'Richard', 'address': 'Sky st 331'}\n",
      "{'_id': ObjectId('637f60090e93e43fbfb1334f'), 'name': 'Sandy', 'address': 'Ocean blvd 2'}\n",
      "{'_id': ObjectId('637f60a60e93e43fbfb1335c'), 'name': 'Sandy', 'address': 'Ocean blvd 2'}\n",
      "{'_id': 6, 'name': 'Sandy', 'address': 'Ocean blvd 2'}\n",
      "{'_id': ObjectId('637f60dc0e93e43fbfb13369'), 'name': 'Sandy', 'address': 'Ocean blvd 2'}\n",
      "{'_id': ObjectId('637f615e0e93e43fbfb13378'), 'name': 'Sandy', 'address': 'Ocean blvd 2'}\n",
      "{'_id': ObjectId('637f60090e93e43fbfb13352'), 'name': 'Susan', 'address': 'One way 98'}\n",
      "{'_id': ObjectId('637f60a60e93e43fbfb1335f'), 'name': 'Susan', 'address': 'One way 98'}\n",
      "{'_id': 9, 'name': 'Susan', 'address': 'One way 98'}\n",
      "{'_id': ObjectId('637f60dc0e93e43fbfb1336c'), 'name': 'Susan', 'address': 'One way 98'}\n",
      "{'_id': ObjectId('637f615e0e93e43fbfb1337b'), 'name': 'Susan', 'address': 'One way 98'}\n",
      "{'_id': ObjectId('637f60090e93e43fbfb13353'), 'name': 'Vicky', 'address': 'Yellow Garden 2'}\n",
      "{'_id': ObjectId('637f60a60e93e43fbfb13360'), 'name': 'Vicky', 'address': 'Yellow Garden 2'}\n",
      "{'_id': 10, 'name': 'Vicky', 'address': 'Yellow Garden 2'}\n",
      "{'_id': ObjectId('637f60dc0e93e43fbfb1336d'), 'name': 'Vicky', 'address': 'Yellow Garden 2'}\n",
      "{'_id': ObjectId('637f615e0e93e43fbfb1337c'), 'name': 'Vicky', 'address': 'Yellow Garden 2'}\n",
      "{'_id': ObjectId('637f60090e93e43fbfb13357'), 'name': 'Viola', 'address': 'Sideway 1633'}\n",
      "{'_id': ObjectId('637f60a60e93e43fbfb13364'), 'name': 'Viola', 'address': 'Sideway 1633'}\n",
      "{'_id': 14, 'name': 'Viola', 'address': 'Sideway 1633'}\n",
      "{'_id': ObjectId('637f60dc0e93e43fbfb13371'), 'name': 'Viola', 'address': 'Sideway 1633'}\n",
      "{'_id': ObjectId('637f615e0e93e43fbfb13380'), 'name': 'Viola', 'address': 'Sideway 1633'}\n",
      "{'_id': ObjectId('637f60090e93e43fbfb13355'), 'name': 'William', 'address': 'Central st 954'}\n",
      "{'_id': ObjectId('637f60a60e93e43fbfb13362'), 'name': 'William', 'address': 'Central st 954'}\n",
      "{'_id': 12, 'name': 'William', 'address': 'Central st 954'}\n",
      "{'_id': ObjectId('637f60dc0e93e43fbfb1336f'), 'name': 'William', 'address': 'Central st 954'}\n",
      "{'_id': ObjectId('637f615e0e93e43fbfb1337e'), 'name': 'William', 'address': 'Central st 954'}\n"
     ]
    }
   ],
   "source": [
    "mydoc = mycol.find().sort(\"name\")\n",
    "for x in mydoc:\n",
    "    print(x)\n"
   ]
  },
  {
   "cell_type": "code",
   "execution_count": 82,
   "metadata": {},
   "outputs": [
    {
     "name": "stdout",
     "output_type": "stream",
     "text": [
      "{'_id': ObjectId('637f60090e93e43fbfb13355'), 'name': 'William', 'address': 'Central st 954'}\n",
      "{'_id': ObjectId('637f60a60e93e43fbfb13362'), 'name': 'William', 'address': 'Central st 954'}\n",
      "{'_id': 12, 'name': 'William', 'address': 'Central st 954'}\n",
      "{'_id': ObjectId('637f60dc0e93e43fbfb1336f'), 'name': 'William', 'address': 'Central st 954'}\n",
      "{'_id': ObjectId('637f615e0e93e43fbfb1337e'), 'name': 'William', 'address': 'Central st 954'}\n",
      "{'_id': ObjectId('637f60090e93e43fbfb13357'), 'name': 'Viola', 'address': 'Sideway 1633'}\n",
      "{'_id': ObjectId('637f60a60e93e43fbfb13364'), 'name': 'Viola', 'address': 'Sideway 1633'}\n",
      "{'_id': 14, 'name': 'Viola', 'address': 'Sideway 1633'}\n",
      "{'_id': ObjectId('637f60dc0e93e43fbfb13371'), 'name': 'Viola', 'address': 'Sideway 1633'}\n",
      "{'_id': ObjectId('637f615e0e93e43fbfb13380'), 'name': 'Viola', 'address': 'Sideway 1633'}\n",
      "{'_id': ObjectId('637f60090e93e43fbfb13353'), 'name': 'Vicky', 'address': 'Yellow Garden 2'}\n",
      "{'_id': ObjectId('637f60a60e93e43fbfb13360'), 'name': 'Vicky', 'address': 'Yellow Garden 2'}\n",
      "{'_id': 10, 'name': 'Vicky', 'address': 'Yellow Garden 2'}\n",
      "{'_id': ObjectId('637f60dc0e93e43fbfb1336d'), 'name': 'Vicky', 'address': 'Yellow Garden 2'}\n",
      "{'_id': ObjectId('637f615e0e93e43fbfb1337c'), 'name': 'Vicky', 'address': 'Yellow Garden 2'}\n",
      "{'_id': ObjectId('637f60090e93e43fbfb13352'), 'name': 'Susan', 'address': 'One way 98'}\n",
      "{'_id': ObjectId('637f60a60e93e43fbfb1335f'), 'name': 'Susan', 'address': 'One way 98'}\n",
      "{'_id': 9, 'name': 'Susan', 'address': 'One way 98'}\n",
      "{'_id': ObjectId('637f60dc0e93e43fbfb1336c'), 'name': 'Susan', 'address': 'One way 98'}\n",
      "{'_id': ObjectId('637f615e0e93e43fbfb1337b'), 'name': 'Susan', 'address': 'One way 98'}\n",
      "{'_id': ObjectId('637f60090e93e43fbfb1334f'), 'name': 'Sandy', 'address': 'Ocean blvd 2'}\n",
      "{'_id': ObjectId('637f60a60e93e43fbfb1335c'), 'name': 'Sandy', 'address': 'Ocean blvd 2'}\n",
      "{'_id': 6, 'name': 'Sandy', 'address': 'Ocean blvd 2'}\n",
      "{'_id': ObjectId('637f60dc0e93e43fbfb13369'), 'name': 'Sandy', 'address': 'Ocean blvd 2'}\n",
      "{'_id': ObjectId('637f615e0e93e43fbfb13378'), 'name': 'Sandy', 'address': 'Ocean blvd 2'}\n",
      "{'_id': ObjectId('637f60090e93e43fbfb13351'), 'name': 'Richard', 'address': 'Sky st 331'}\n",
      "{'_id': ObjectId('637f60a60e93e43fbfb1335e'), 'name': 'Richard', 'address': 'Sky st 331'}\n",
      "{'_id': 8, 'name': 'Richard', 'address': 'Sky st 331'}\n",
      "{'_id': ObjectId('637f60dc0e93e43fbfb1336b'), 'name': 'Richard', 'address': 'Sky st 331'}\n",
      "{'_id': ObjectId('637f615e0e93e43fbfb1337a'), 'name': 'Richard', 'address': 'Sky st 331'}\n",
      "{'_id': ObjectId('637f5fcc0e93e43fbfb13349'), 'name': 'Peter', 'address': 'Lowstreet 27'}\n",
      "{'_id': ObjectId('637f5fcd0e93e43fbfb1334a'), 'name': 'Peter', 'address': 'Lowstreet 27'}\n",
      "{'_id': ObjectId('637f60090e93e43fbfb1334b'), 'name': 'Peter', 'address': 'Lowstreet 27'}\n",
      "{'_id': ObjectId('637f60a60e93e43fbfb13358'), 'name': 'Peter', 'address': 'Lowstreet 27'}\n",
      "{'_id': 2, 'name': 'Peter', 'address': 'Lowstreet 27'}\n",
      "{'_id': ObjectId('637f60dc0e93e43fbfb13365'), 'name': 'Peter', 'address': 'Lowstreet 27'}\n",
      "{'_id': ObjectId('637f615e0e93e43fbfb13374'), 'name': 'Peter', 'address': 'Lowstreet 27'}\n",
      "{'_id': ObjectId('637f60090e93e43fbfb1334e'), 'name': 'Michael', 'address': 'Valley 345'}\n",
      "{'_id': ObjectId('637f60a60e93e43fbfb1335b'), 'name': 'Michael', 'address': 'Valley 345'}\n",
      "{'_id': 5, 'name': 'Michael', 'address': 'Valley 345'}\n",
      "{'_id': ObjectId('637f60dc0e93e43fbfb13368'), 'name': 'Michael', 'address': 'Valley 345'}\n",
      "{'_id': ObjectId('637f615e0e93e43fbfb13377'), 'name': 'Michael', 'address': 'Valley 345'}\n",
      "{'_id': ObjectId('637f5f570e93e43fbfb13345'), 'name': 'John', 'address': 'Highway 37'}\n",
      "{'_id': ObjectId('637f5f5a0e93e43fbfb13346'), 'name': 'John', 'address': 'Highway 37'}\n",
      "{'_id': ObjectId('637f5f6f0e93e43fbfb13347'), 'name': 'John', 'address': 'Highway 37'}\n",
      "{'_id': ObjectId('637f5f700e93e43fbfb13348'), 'name': 'John', 'address': 'Highway 37'}\n",
      "{'_id': 1, 'name': 'John', 'address': 'Highway 37'}\n",
      "{'_id': ObjectId('637f60090e93e43fbfb1334d'), 'name': 'Hannah', 'address': 'Mountain 21'}\n",
      "{'_id': ObjectId('637f60a60e93e43fbfb1335a'), 'name': 'Hannah', 'address': 'Mountain 21'}\n",
      "{'_id': 4, 'name': 'Hannah', 'address': 'Mountain 21'}\n",
      "{'_id': ObjectId('637f60dc0e93e43fbfb13367'), 'name': 'Hannah', 'address': 'Mountain 21'}\n",
      "{'_id': ObjectId('637f615e0e93e43fbfb13376'), 'name': 'Hannah', 'address': 'Mountain 21'}\n",
      "{'_id': ObjectId('637f60090e93e43fbfb13356'), 'name': 'Chuck', 'address': 'Main Road 989'}\n",
      "{'_id': ObjectId('637f60a60e93e43fbfb13363'), 'name': 'Chuck', 'address': 'Main Road 989'}\n",
      "{'_id': 13, 'name': 'Chuck', 'address': 'Main Road 989'}\n",
      "{'_id': ObjectId('637f60dc0e93e43fbfb13370'), 'name': 'Chuck', 'address': 'Main Road 989'}\n",
      "{'_id': ObjectId('637f615e0e93e43fbfb1337f'), 'name': 'Chuck', 'address': 'Main Road 989'}\n",
      "{'_id': ObjectId('637f60090e93e43fbfb13350'), 'name': 'Betty', 'address': 'Green Grass 1'}\n",
      "{'_id': ObjectId('637f60a60e93e43fbfb1335d'), 'name': 'Betty', 'address': 'Green Grass 1'}\n",
      "{'_id': 7, 'name': 'Betty', 'address': 'Green Grass 1'}\n",
      "{'_id': ObjectId('637f60dc0e93e43fbfb1336a'), 'name': 'Betty', 'address': 'Green Grass 1'}\n",
      "{'_id': ObjectId('637f615e0e93e43fbfb13379'), 'name': 'Betty', 'address': 'Green Grass 1'}\n",
      "{'_id': ObjectId('637f60090e93e43fbfb13354'), 'name': 'Ben', 'address': 'Park Lane 38'}\n",
      "{'_id': ObjectId('637f60a60e93e43fbfb13361'), 'name': 'Ben', 'address': 'Park Lane 38'}\n",
      "{'_id': 11, 'name': 'Ben', 'address': 'Park Lane 38'}\n",
      "{'_id': ObjectId('637f60dc0e93e43fbfb1336e'), 'name': 'Ben', 'address': 'Park Lane 38'}\n",
      "{'_id': ObjectId('637f615e0e93e43fbfb1337d'), 'name': 'Ben', 'address': 'Park Lane 38'}\n",
      "{'_id': ObjectId('637f60090e93e43fbfb1334c'), 'name': 'Amy', 'address': 'Apple st 652'}\n",
      "{'_id': ObjectId('637f60a60e93e43fbfb13359'), 'name': 'Amy', 'address': 'Apple st 652'}\n",
      "{'_id': 3, 'name': 'Amy', 'address': 'Apple st 652'}\n",
      "{'_id': ObjectId('637f60dc0e93e43fbfb13366'), 'name': 'Amy', 'address': 'Apple st 652'}\n",
      "{'_id': ObjectId('637f615e0e93e43fbfb13375'), 'name': 'Amy', 'address': 'Apple st 652'}\n"
     ]
    }
   ],
   "source": [
    "mydoc = mycol.find().sort(\"name\",-1)\n",
    "for x in mydoc:\n",
    "    print(x)"
   ]
  }
 ],
 "metadata": {
  "kernelspec": {
   "display_name": "Python 3.10.6 64-bit",
   "language": "python",
   "name": "python3"
  },
  "language_info": {
   "codemirror_mode": {
    "name": "ipython",
    "version": 3
   },
   "file_extension": ".py",
   "mimetype": "text/x-python",
   "name": "python",
   "nbconvert_exporter": "python",
   "pygments_lexer": "ipython3",
   "version": "3.10.6"
  },
  "orig_nbformat": 4,
  "vscode": {
   "interpreter": {
    "hash": "b0425e536a7e7cf49c49483d3faa5359af68fac38658aa7b1a7b75d51a866e27"
   }
  }
 },
 "nbformat": 4,
 "nbformat_minor": 2
}
