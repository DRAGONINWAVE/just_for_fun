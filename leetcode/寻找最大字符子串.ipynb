{
 "cells": [
  {
   "cell_type": "code",
   "execution_count": 1,
   "metadata": {},
   "outputs": [
    {
     "name": "stdout",
     "output_type": "stream",
     "text": [
      "{'1', '3', '2', '4'}\n"
     ]
    }
   ],
   "source": [
    "s = \"12321214\"\n",
    "print(set(s))"
   ]
  },
  {
   "cell_type": "code",
   "execution_count": 27,
   "metadata": {},
   "outputs": [
    {
     "name": "stdout",
     "output_type": "stream",
     "text": [
      "4\n"
     ]
    }
   ],
   "source": [
    "\n",
    "def lengthOfLongestSubstring(self, s: str) -> int:\n",
    "    k = list(s)\n",
    "    maxnum = 1\n",
    "    if len(k) == len(set(s)):\n",
    "        return len(k)\n",
    "    else:\n",
    "        for i in range(1, len(k)+1):\n",
    "            for j in range(0, len(k)+1):\n",
    "                if j+i != len(k):\n",
    "                    m = k[j:j+i]\n",
    "                    if len(m) == len(set(m)):\n",
    "                        max1 = len(m)\n",
    "                        # print(max1)\n",
    "                        if max1 >= maxnum:\n",
    "                            maxnum = max1\n",
    "        return maxnum\n",
    "\n",
    "if __name__=='__main__':\n",
    "    s = \"sddasdfsdaf\"\n",
    "    print(lengthOfLongestSubstring(None,s))"
   ]
  },
  {
   "cell_type": "code",
   "execution_count": 24,
   "metadata": {},
   "outputs": [
    {
     "ename": "TypeError",
     "evalue": "'int' object is not iterable",
     "output_type": "error",
     "traceback": [
      "\u001b[1;31m---------------------------------------------------------------------------\u001b[0m",
      "\u001b[1;31mTypeError\u001b[0m                                 Traceback (most recent call last)",
      "Cell \u001b[1;32mIn [24], line 2\u001b[0m\n\u001b[0;32m      1\u001b[0m b \u001b[39m=\u001b[39m [\u001b[39m\"\u001b[39m\u001b[39m \u001b[39m\u001b[39m\"\u001b[39m,\u001b[39m'\u001b[39m\u001b[39m2\u001b[39m\u001b[39m'\u001b[39m,\u001b[39m4\u001b[39m,\u001b[39m\"\u001b[39m\u001b[39mi\u001b[39m\u001b[39m\"\u001b[39m]\n\u001b[1;32m----> 2\u001b[0m \u001b[39mprint\u001b[39m(\u001b[39mset\u001b[39;49m(\u001b[39mlen\u001b[39;49m(b)))\n",
      "\u001b[1;31mTypeError\u001b[0m: 'int' object is not iterable"
     ]
    }
   ],
   "source": [
    "b = [\" \",'2',4,\"i\"]\n",
    "print(set(len(b)))"
   ]
  }
 ],
 "metadata": {
  "kernelspec": {
   "display_name": "Python 3",
   "language": "python",
   "name": "python3"
  },
  "language_info": {
   "codemirror_mode": {
    "name": "ipython",
    "version": 3
   },
   "file_extension": ".py",
   "mimetype": "text/x-python",
   "name": "python",
   "nbconvert_exporter": "python",
   "pygments_lexer": "ipython3",
   "version": "3.10.6"
  },
  "orig_nbformat": 4,
  "vscode": {
   "interpreter": {
    "hash": "b0425e536a7e7cf49c49483d3faa5359af68fac38658aa7b1a7b75d51a866e27"
   }
  }
 },
 "nbformat": 4,
 "nbformat_minor": 2
}
