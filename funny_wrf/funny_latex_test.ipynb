{
 "cells": [
  {
   "cell_type": "code",
   "execution_count": 5,
   "metadata": {},
   "outputs": [],
   "source": [
    "import latexify\n",
    "import math"
   ]
  },
  {
   "cell_type": "code",
   "execution_count": 11,
   "metadata": {},
   "outputs": [
    {
     "data": {
      "text/latex": [
       "$$ \\displaystyle \\mathrm{solve1}(a, b, c) = \\frac{-b + \\sqrt{b^{{2}} - {4} a c}}{{2} a} $$"
      ],
      "text/plain": [
       "<latexify.frontend.LatexifiedFunction at 0x25e8aec2110>"
      ]
     },
     "execution_count": 11,
     "metadata": {},
     "output_type": "execute_result"
    }
   ],
   "source": [
    "@latexify.with_latex   # 加上一个装饰器（必须）\n",
    "def solve1(a, b, c):\n",
    "    return (-b + math.sqrt(b**2 - 4*a*c)) / (2*a)\n",
    "\n",
    "\n",
    "def solve2(a, b, c):\n",
    "    return (-b - math.sqrt(b**2 - 4*a*c)) / (2*a)  \n",
    "\n",
    "\n",
    "solve1\n",
    "# solve2\n"
   ]
  }
 ],
 "metadata": {
  "kernelspec": {
   "display_name": "Python 3.10.6 64-bit",
   "language": "python",
   "name": "python3"
  },
  "language_info": {
   "codemirror_mode": {
    "name": "ipython",
    "version": 3
   },
   "file_extension": ".py",
   "mimetype": "text/x-python",
   "name": "python",
   "nbconvert_exporter": "python",
   "pygments_lexer": "ipython3",
   "version": "3.10.6"
  },
  "orig_nbformat": 4,
  "vscode": {
   "interpreter": {
    "hash": "b0425e536a7e7cf49c49483d3faa5359af68fac38658aa7b1a7b75d51a866e27"
   }
  }
 },
 "nbformat": 4,
 "nbformat_minor": 2
}
